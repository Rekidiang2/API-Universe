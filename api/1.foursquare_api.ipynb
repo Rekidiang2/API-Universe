{
 "cells": [
  {
   "cell_type": "markdown",
   "metadata": {},
   "source": [
    "# Foursquare API"
   ]
  },
  {
   "cell_type": "markdown",
   "metadata": {},
   "source": [
    "## Import Libraries"
   ]
  },
  {
   "cell_type": "code",
   "execution_count": 1,
   "metadata": {},
   "outputs": [],
   "source": [
    "import requests\n",
    "import numpy as np\n",
    "import pandas as pd\n",
    "import json\n",
    "import webbrowser"
   ]
  },
  {
   "cell_type": "markdown",
   "metadata": {},
   "source": [
    "## End Point"
   ]
  },
  {
   "cell_type": "code",
   "execution_count": 2,
   "metadata": {},
   "outputs": [
    {
     "data": {
      "text/plain": [
       "True"
      ]
     },
     "execution_count": 2,
     "metadata": {},
     "output_type": "execute_result"
    }
   ],
   "source": [
    "url = \"https://api.foursquare.com/v3/places/search\"\n",
    "webbrowser.open(url)"
   ]
  },
  {
   "cell_type": "markdown",
   "metadata": {},
   "source": [
    "## Credential"
   ]
  },
  {
   "cell_type": "code",
   "execution_count": 3,
   "metadata": {},
   "outputs": [],
   "source": [
    "CLIENT_ID =  'P2LBIMCSKEZQT3FFV4KL0LHRCWD210CYQBDXZSUH1E5RQ1FT'\n",
    "CLIENT_SECRET = 'CWIPRLW4V1K3AJ3CGKFDFKEEPUKCYCWB3GRVNTDZ5APY1SKL'\n",
    "VERSION = '20200605' # Foursquare API version\n",
    "LIMIT = 100 # A default Foursquare API limit value\n",
    "ACCESS_TOKEN = '' # The obtained ACCESS_TOKEN\n",
    "API_KEY = 'fsq3iDEJ5B2/+BF7ogP1ejAPVptLqWJZ+JH5MoK5kIvM7pE='"
   ]
  },
  {
   "cell_type": "markdown",
   "metadata": {},
   "source": [
    "## Request"
   ]
  },
  {
   "cell_type": "code",
   "execution_count": 4,
   "metadata": {},
   "outputs": [],
   "source": [
    "def req_response(response):\n",
    "\tresp = int(str(response)[11:14])\n",
    "\tcode = [200, 400, 401, 403, 404, 405, 409]\n",
    "\tmean = ['OK', 'Bad Request', 'Unauthorized', 'Forbidden', 'Not Found', 'Method Not Allowed', 'Conflict',  'Internal Server Error']\n",
    "\tdescript = ['Everything works as expected', \n",
    "\t\t\t\t'Any case where a parameter is invalid, or a required parameter is missing.',\n",
    "\t\t\t\t'Invalid request token',\n",
    "\t\t\t\t'The requested information is restricted',\n",
    "\t\t\t\t'Endpoint does not exist.',\n",
    "\t\t\t\t'Attempting to use POST with a GET-only endpoint, or vice-versa.',\n",
    "\t\t\t\t'The request could not be completed as it is. Use the information included in the response to modify the request and retry.',\n",
    "\t\t\t\t\"Foursquare's servers are unhappy. There is either a bug on our side or there is an outage. The request is probably valid but needs to be retried later.\"]\n",
    "\tfor i in range(len(code)):\n",
    "\t\tif resp == code[i]:\n",
    "\t\t\tprint(f\"Request Response : {resp} {mean[i]} ({descript[i]})\")"
   ]
  },
  {
   "cell_type": "markdown",
   "metadata": {},
   "source": [
    "## Authentification and  Request"
   ]
  },
  {
   "cell_type": "code",
   "execution_count": 6,
   "metadata": {},
   "outputs": [
    {
     "name": "stdout",
     "output_type": "stream",
     "text": [
      "Request Response : 200 OK (Everything works as expected)\n"
     ]
    }
   ],
   "source": [
    "headers = {\n",
    "    \"Accept\": \"application/json\",\n",
    "   'Accept-Language':'fr',\n",
    "    \"Authorization\": API_KEY\n",
    "}\n",
    "\n",
    "response = requests.request(\"GET\", url, headers=headers)\n",
    "req_response(response)"
   ]
  },
  {
   "cell_type": "markdown",
   "metadata": {},
   "source": [
    "## Get Data"
   ]
  },
  {
   "cell_type": "code",
   "execution_count": 7,
   "metadata": {},
   "outputs": [],
   "source": [
    "data = response.json()"
   ]
  },
  {
   "cell_type": "markdown",
   "metadata": {},
   "source": [
    "## Format Data"
   ]
  },
  {
   "cell_type": "code",
   "execution_count": 8,
   "metadata": {},
   "outputs": [
    {
     "data": {
      "text/html": [
       "<div>\n",
       "<style scoped>\n",
       "    .dataframe tbody tr th:only-of-type {\n",
       "        vertical-align: middle;\n",
       "    }\n",
       "\n",
       "    .dataframe tbody tr th {\n",
       "        vertical-align: top;\n",
       "    }\n",
       "\n",
       "    .dataframe thead th {\n",
       "        text-align: right;\n",
       "    }\n",
       "</style>\n",
       "<table border=\"1\" class=\"dataframe\">\n",
       "  <thead>\n",
       "    <tr style=\"text-align: right;\">\n",
       "      <th></th>\n",
       "      <th>name</th>\n",
       "      <th>type</th>\n",
       "      <th>adress</th>\n",
       "      <th>cross_street</th>\n",
       "      <th>city</th>\n",
       "      <th>country</th>\n",
       "      <th>latitude</th>\n",
       "      <th>longitude</th>\n",
       "    </tr>\n",
       "  </thead>\n",
       "  <tbody>\n",
       "    <tr>\n",
       "      <th>0</th>\n",
       "      <td>New Ice Cream</td>\n",
       "      <td>Café</td>\n",
       "      <td>Avenue du Port (Boulevard du 30 juin), Kinshasa</td>\n",
       "      <td>Boulevard du 30 juin</td>\n",
       "      <td>Kinshasa</td>\n",
       "      <td>CD</td>\n",
       "      <td>-4.303003</td>\n",
       "      <td>15.308318</td>\n",
       "    </tr>\n",
       "    <tr>\n",
       "      <th>1</th>\n",
       "      <td>Cofee N More</td>\n",
       "      <td>Fast Food Restaurant</td>\n",
       "      <td>Kinshasa</td>\n",
       "      <td></td>\n",
       "      <td>Kinshasa</td>\n",
       "      <td>CD</td>\n",
       "      <td>-4.303056</td>\n",
       "      <td>15.308216</td>\n",
       "    </tr>\n",
       "    <tr>\n",
       "      <th>2</th>\n",
       "      <td>Nice Cream</td>\n",
       "      <td>Dessert Shop</td>\n",
       "      <td>Kinshasa</td>\n",
       "      <td></td>\n",
       "      <td>Kinshasa</td>\n",
       "      <td>CD</td>\n",
       "      <td>-4.303090</td>\n",
       "      <td>15.307759</td>\n",
       "    </tr>\n",
       "    <tr>\n",
       "      <th>3</th>\n",
       "      <td>CHA CHA lounge bar</td>\n",
       "      <td>Bar lounge</td>\n",
       "      <td>Kinshasa</td>\n",
       "      <td></td>\n",
       "      <td>Kinshasa</td>\n",
       "      <td>CD</td>\n",
       "      <td>-4.300890</td>\n",
       "      <td>15.308582</td>\n",
       "    </tr>\n",
       "    <tr>\n",
       "      <th>4</th>\n",
       "      <td>Le Chantilly</td>\n",
       "      <td>Café</td>\n",
       "      <td>Av Lukusa, Kinshasa</td>\n",
       "      <td></td>\n",
       "      <td>Kinshasa</td>\n",
       "      <td>CD</td>\n",
       "      <td>-4.303780</td>\n",
       "      <td>15.302705</td>\n",
       "    </tr>\n",
       "    <tr>\n",
       "      <th>5</th>\n",
       "      <td>Noki Noki</td>\n",
       "      <td>Bar</td>\n",
       "      <td>Avenue de l'Equateur, 26, Kinshasa</td>\n",
       "      <td></td>\n",
       "      <td>Kinshasa</td>\n",
       "      <td>CD</td>\n",
       "      <td>-4.302741</td>\n",
       "      <td>15.310521</td>\n",
       "    </tr>\n",
       "    <tr>\n",
       "      <th>6</th>\n",
       "      <td>La piscine de l'Hotel Memling</td>\n",
       "      <td>Swimming Pool</td>\n",
       "      <td>Avenue Rep Du Tchad (Avenue du Bas Congo), Kin...</td>\n",
       "      <td>Avenue du Bas Congo</td>\n",
       "      <td>Kinshasa, DRC</td>\n",
       "      <td>CD</td>\n",
       "      <td>-4.304097</td>\n",
       "      <td>15.312343</td>\n",
       "    </tr>\n",
       "    <tr>\n",
       "      <th>7</th>\n",
       "      <td>Avenue de la Justice</td>\n",
       "      <td>Arts and Entertainment</td>\n",
       "      <td>Avenue de la justice, Kinshasa</td>\n",
       "      <td></td>\n",
       "      <td>Kinshasa</td>\n",
       "      <td>CD</td>\n",
       "      <td>-4.307206</td>\n",
       "      <td>15.291793</td>\n",
       "    </tr>\n",
       "    <tr>\n",
       "      <th>8</th>\n",
       "      <td>Saloon VIP</td>\n",
       "      <td>Bar</td>\n",
       "      <td>Kinshasa</td>\n",
       "      <td></td>\n",
       "      <td>Kinshasa</td>\n",
       "      <td>CD</td>\n",
       "      <td>-4.304935</td>\n",
       "      <td>15.306130</td>\n",
       "    </tr>\n",
       "    <tr>\n",
       "      <th>9</th>\n",
       "      <td>Limoncello</td>\n",
       "      <td>Italian Restaurant</td>\n",
       "      <td>20 Avenue Tombalbaye, Kinshasa</td>\n",
       "      <td></td>\n",
       "      <td>Kinshasa</td>\n",
       "      <td>CD</td>\n",
       "      <td>-4.304926</td>\n",
       "      <td>15.314777</td>\n",
       "    </tr>\n",
       "  </tbody>\n",
       "</table>\n",
       "</div>"
      ],
      "text/plain": [
       "                            name                    type  \\\n",
       "0                  New Ice Cream                    Café   \n",
       "1                   Cofee N More    Fast Food Restaurant   \n",
       "2                     Nice Cream            Dessert Shop   \n",
       "3             CHA CHA lounge bar              Bar lounge   \n",
       "4                   Le Chantilly                    Café   \n",
       "5                      Noki Noki                     Bar   \n",
       "6  La piscine de l'Hotel Memling           Swimming Pool   \n",
       "7           Avenue de la Justice  Arts and Entertainment   \n",
       "8                     Saloon VIP                     Bar   \n",
       "9                     Limoncello      Italian Restaurant   \n",
       "\n",
       "                                              adress          cross_street  \\\n",
       "0    Avenue du Port (Boulevard du 30 juin), Kinshasa  Boulevard du 30 juin   \n",
       "1                                           Kinshasa                         \n",
       "2                                           Kinshasa                         \n",
       "3                                           Kinshasa                         \n",
       "4                                Av Lukusa, Kinshasa                         \n",
       "5                 Avenue de l'Equateur, 26, Kinshasa                         \n",
       "6  Avenue Rep Du Tchad (Avenue du Bas Congo), Kin...   Avenue du Bas Congo   \n",
       "7                     Avenue de la justice, Kinshasa                         \n",
       "8                                           Kinshasa                         \n",
       "9                     20 Avenue Tombalbaye, Kinshasa                         \n",
       "\n",
       "            city country  latitude  longitude  \n",
       "0       Kinshasa      CD -4.303003  15.308318  \n",
       "1       Kinshasa      CD -4.303056  15.308216  \n",
       "2       Kinshasa      CD -4.303090  15.307759  \n",
       "3       Kinshasa      CD -4.300890  15.308582  \n",
       "4       Kinshasa      CD -4.303780  15.302705  \n",
       "5       Kinshasa      CD -4.302741  15.310521  \n",
       "6  Kinshasa, DRC      CD -4.304097  15.312343  \n",
       "7       Kinshasa      CD -4.307206  15.291793  \n",
       "8       Kinshasa      CD -4.304935  15.306130  \n",
       "9       Kinshasa      CD -4.304926  15.314777  "
      ]
     },
     "execution_count": 8,
     "metadata": {},
     "output_type": "execute_result"
    }
   ],
   "source": [
    "name = []\n",
    "type = []\n",
    "adress = []\n",
    "cross_street = []\n",
    "city = []\n",
    "country = []\n",
    "latitude = []\n",
    "longitude = []\n",
    "\n",
    "for i in range(len(data['results'])):\n",
    "    \n",
    "    name.append(data['results'][i]['name'])\n",
    "    type.append(data['results'][i]['categories'][0]['name'])\n",
    "    adress.append(data['results'][i]['location']['formatted_address'])\n",
    "    cross_street.append(data['results'][i]['location']['cross_street'])\n",
    "    city.append(data['results'][i]['location']['locality'])\n",
    "    country.append(data['results'][i]['location']['country'])\n",
    "    latitude.append(data['results'][i]['geocodes']['main']['latitude'])\n",
    "    longitude.append(data['results'][i]['geocodes']['main']['longitude'])\n",
    "\n",
    "pd.DataFrame({'name':name, 'type':type, 'adress':adress, 'cross_street':cross_street, \n",
    "'city':city, 'country':country, 'latitude':latitude, 'longitude':longitude})\n"
   ]
  },
  {
   "cell_type": "markdown",
   "metadata": {},
   "source": [
    "___\n",
    "My name is **Kiese Diangebeni Reagan** I'm **Data Science Analyst**, technology passionate person, Artificial Intelligence enthusiast and lifelong learner. \n",
    "\n",
    "   \n",
    "|**Let get in touch :**| <a href=\"https://kiese.tech\">www.kiese.tech</a>|<a href=\"https://github.com/Rekidiang2\">GitHub</a>| <a href=\"https://www.linkedin.com/in/kiese-diangebeni-reagan-82992216a/\">Linkedin</a>|<a href=\"https://twitter.com/ReaganKiese\">Twitter</a>|<a href=\"http://www.facebook.com/reagan.kiese.37\">FaceBook</a>|<a href=\"https://medium.com/@rkddatas\">Medium</a>|\n",
    "|--------------|-----------|-----------|-----------|-----------|-----------|-----------|\n",
    "\n",
    "---"
   ]
  },
  {
   "cell_type": "code",
   "execution_count": null,
   "metadata": {},
   "outputs": [],
   "source": []
  }
 ],
 "metadata": {
  "kernelspec": {
   "display_name": "da03_kernel",
   "language": "python",
   "name": "da03_venv"
  },
  "language_info": {
   "codemirror_mode": {
    "name": "ipython",
    "version": 3
   },
   "file_extension": ".py",
   "mimetype": "text/x-python",
   "name": "python",
   "nbconvert_exporter": "python",
   "pygments_lexer": "ipython3",
   "version": "3.8.13"
  },
  "orig_nbformat": 4
 },
 "nbformat": 4,
 "nbformat_minor": 2
}
