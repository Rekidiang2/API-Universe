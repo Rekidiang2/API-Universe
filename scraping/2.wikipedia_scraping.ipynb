{
 "cells": [
  {
   "cell_type": "markdown",
   "metadata": {},
   "source": [
    "# HTML Table Scraping API"
   ]
  },
  {
   "cell_type": "markdown",
   "metadata": {},
   "source": [
    "## Import Libraries"
   ]
  },
  {
   "cell_type": "code",
   "execution_count": 5,
   "metadata": {},
   "outputs": [],
   "source": [
    "import requests\n",
    "import numpy as np\n",
    "import pandas as pd\n",
    "import json\n",
    "import webbrowser\n",
    "from bs4 import BeautifulSoup\n",
    "from utils import *"
   ]
  },
  {
   "cell_type": "markdown",
   "metadata": {},
   "source": [
    "## Web Page URL"
   ]
  },
  {
   "cell_type": "code",
   "execution_count": 2,
   "metadata": {},
   "outputs": [],
   "source": [
    "url = \"https://en.wikipedia.org/wiki/World_population\"\n"
   ]
  },
  {
   "cell_type": "markdown",
   "metadata": {},
   "source": [
    "## Request"
   ]
  },
  {
   "cell_type": "code",
   "execution_count": 4,
   "metadata": {},
   "outputs": [
    {
     "name": "stdout",
     "output_type": "stream",
     "text": [
      "Request Response : 200 OK (Everything works as expected)\n"
     ]
    }
   ],
   "source": [
    "\n",
    "page = requests.get(url)\n",
    "req_response(page)"
   ]
  },
  {
   "cell_type": "markdown",
   "metadata": {},
   "source": [
    "## Get Data"
   ]
  },
  {
   "cell_type": "code",
   "execution_count": 6,
   "metadata": {},
   "outputs": [
    {
     "name": "stdout",
     "output_type": "stream",
     "text": [
      "html document parsed !!! \n"
     ]
    }
   ],
   "source": [
    "# parse document (create BeautifulSoup object)\n",
    "data = BeautifulSoup(page.text, \"html.parser\")\n",
    "print(\"html document parsed !!! \")"
   ]
  },
  {
   "cell_type": "markdown",
   "metadata": {},
   "source": [
    "## Format Data"
   ]
  },
  {
   "cell_type": "code",
   "execution_count": 8,
   "metadata": {},
   "outputs": [
    {
     "name": "stdout",
     "output_type": "stream",
     "text": [
      "This page have : 26 Tables\n"
     ]
    }
   ],
   "source": [
    "tables = data.find_all('table')\n",
    "print(f\"This page have : {len(tables)} Tables\")"
   ]
  },
  {
   "cell_type": "code",
   "execution_count": 10,
   "metadata": {},
   "outputs": [
    {
     "name": "stdout",
     "output_type": "stream",
     "text": [
      "5 Tables with mention '10 most densely populated countries'\n"
     ]
    }
   ],
   "source": [
    "for index,table in enumerate(tables):\n",
    "    if (\"10 most densely populated countries\" in str(table)):\n",
    "        table_index = index\n",
    "print(f\"{table_index} Tables with mention '10 most densely populated countries'\")"
   ]
  },
  {
   "cell_type": "code",
   "execution_count": null,
   "metadata": {},
   "outputs": [],
   "source": [
    "color_code = []\n",
    "color_name = []\n",
    "for row in data.find_all('tr'): # in html table row is represented by the tag <tr>\n",
    "    # Get all columns in each row.\n",
    "    cols = row.find_all('td') # in html a column is represented by the tag <td>\n",
    "    color_name.append(cols[2].string) # store the value in column 3 as color_name\n",
    "    color_code.append(cols[3].string) # store the value in column 4 as color_code\n",
    "    print(\"{}--->{}\".format(color_name,color_code))\n",
    "\n",
    "pd.DataFrame({'Color Name':color_name, 'Color_Code':color_code})"
   ]
  },
  {
   "cell_type": "code",
   "execution_count": 11,
   "metadata": {},
   "outputs": [
    {
     "name": "stdout",
     "output_type": "stream",
     "text": [
      "<table class=\"wikitable sortable\" style=\"text-align:right\">\n",
      " <caption>\n",
      "  10 most densely populated countries\n",
      "  <small>\n",
      "   (with population above 5 million)\n",
      "  </small>\n",
      " </caption>\n",
      " <tbody>\n",
      "  <tr>\n",
      "   <th>\n",
      "    Rank\n",
      "   </th>\n",
      "   <th>\n",
      "    Country\n",
      "   </th>\n",
      "   <th>\n",
      "    Population\n",
      "   </th>\n",
      "   <th>\n",
      "    Area\n",
      "    <br/>\n",
      "    <small>\n",
      "     (km\n",
      "     <sup>\n",
      "      2\n",
      "     </sup>\n",
      "     )\n",
      "    </small>\n",
      "   </th>\n",
      "   <th>\n",
      "    Density\n",
      "    <br/>\n",
      "    <small>\n",
      "     (pop/km\n",
      "     <sup>\n",
      "      2\n",
      "     </sup>\n",
      "     )\n",
      "    </small>\n",
      "   </th>\n",
      "  </tr>\n",
      "  <tr>\n",
      "   <td>\n",
      "    1\n",
      "   </td>\n",
      "   <td align=\"left\">\n",
      "    <span class=\"flagicon\">\n",
      "     <img alt=\"\" class=\"thumbborder\" data-file-height=\"600\" data-file-width=\"900\" decoding=\"async\" height=\"15\" src=\"//upload.wikimedia.org/wikipedia/commons/thumb/4/48/Flag_of_Singapore.svg/23px-Flag_of_Singapore.svg.png\" srcset=\"//upload.wikimedia.org/wikipedia/commons/thumb/4/48/Flag_of_Singapore.svg/35px-Flag_of_Singapore.svg.png 1.5x, //upload.wikimedia.org/wikipedia/commons/thumb/4/48/Flag_of_Singapore.svg/45px-Flag_of_Singapore.svg.png 2x\" width=\"23\"/>\n",
      "    </span>\n",
      "    <a href=\"/wiki/Singapore\" title=\"Singapore\">\n",
      "     Singapore\n",
      "    </a>\n",
      "   </td>\n",
      "   <td>\n",
      "    5,704,000\n",
      "   </td>\n",
      "   <td>\n",
      "    710\n",
      "   </td>\n",
      "   <td>\n",
      "    8,033\n",
      "   </td>\n",
      "  </tr>\n",
      "  <tr>\n",
      "   <td>\n",
      "    2\n",
      "   </td>\n",
      "   <td align=\"left\">\n",
      "    <span class=\"flagicon\">\n",
      "     <img alt=\"\" class=\"thumbborder\" data-file-height=\"600\" data-file-width=\"1000\" decoding=\"async\" height=\"14\" src=\"//upload.wikimedia.org/wikipedia/commons/thumb/f/f9/Flag_of_Bangladesh.svg/23px-Flag_of_Bangladesh.svg.png\" srcset=\"//upload.wikimedia.org/wikipedia/commons/thumb/f/f9/Flag_of_Bangladesh.svg/35px-Flag_of_Bangladesh.svg.png 1.5x, //upload.wikimedia.org/wikipedia/commons/thumb/f/f9/Flag_of_Bangladesh.svg/46px-Flag_of_Bangladesh.svg.png 2x\" width=\"23\"/>\n",
      "    </span>\n",
      "    <a href=\"/wiki/Bangladesh\" title=\"Bangladesh\">\n",
      "     Bangladesh\n",
      "    </a>\n",
      "   </td>\n",
      "   <td>\n",
      "    172,590,000\n",
      "   </td>\n",
      "   <td>\n",
      "    143,998\n",
      "   </td>\n",
      "   <td>\n",
      "    1,199\n",
      "   </td>\n",
      "  </tr>\n",
      "  <tr>\n",
      "   <td>\n",
      "    3\n",
      "   </td>\n",
      "   <td align=\"left\">\n",
      "    <p>\n",
      "     <span class=\"flagicon\">\n",
      "      <img alt=\"\" class=\"thumbborder\" data-file-height=\"600\" data-file-width=\"1200\" decoding=\"async\" height=\"12\" src=\"//upload.wikimedia.org/wikipedia/commons/thumb/0/00/Flag_of_Palestine.svg/23px-Flag_of_Palestine.svg.png\" srcset=\"//upload.wikimedia.org/wikipedia/commons/thumb/0/00/Flag_of_Palestine.svg/35px-Flag_of_Palestine.svg.png 1.5x, //upload.wikimedia.org/wikipedia/commons/thumb/0/00/Flag_of_Palestine.svg/46px-Flag_of_Palestine.svg.png 2x\" width=\"23\"/>\n",
      "     </span>\n",
      "     <a href=\"/wiki/State_of_Palestine\" title=\"State of Palestine\">\n",
      "      Palestine\n",
      "     </a>\n",
      "    </p>\n",
      "   </td>\n",
      "   <td>\n",
      "    5,266,785\n",
      "   </td>\n",
      "   <td>\n",
      "    6,020\n",
      "   </td>\n",
      "   <td>\n",
      "    847\n",
      "   </td>\n",
      "  </tr>\n",
      "  <tr>\n",
      "   <td>\n",
      "    4\n",
      "   </td>\n",
      "   <td align=\"left\">\n",
      "    <span class=\"flagicon\">\n",
      "     <img alt=\"\" class=\"thumbborder\" data-file-height=\"600\" data-file-width=\"900\" decoding=\"async\" height=\"15\" src=\"//upload.wikimedia.org/wikipedia/commons/thumb/5/59/Flag_of_Lebanon.svg/23px-Flag_of_Lebanon.svg.png\" srcset=\"//upload.wikimedia.org/wikipedia/commons/thumb/5/59/Flag_of_Lebanon.svg/35px-Flag_of_Lebanon.svg.png 1.5x, //upload.wikimedia.org/wikipedia/commons/thumb/5/59/Flag_of_Lebanon.svg/45px-Flag_of_Lebanon.svg.png 2x\" width=\"23\"/>\n",
      "    </span>\n",
      "    <a href=\"/wiki/Lebanon\" title=\"Lebanon\">\n",
      "     Lebanon\n",
      "    </a>\n",
      "   </td>\n",
      "   <td>\n",
      "    6,856,000\n",
      "   </td>\n",
      "   <td>\n",
      "    10,452\n",
      "   </td>\n",
      "   <td>\n",
      "    656\n",
      "   </td>\n",
      "  </tr>\n",
      "  <tr>\n",
      "   <td>\n",
      "    5\n",
      "   </td>\n",
      "   <td align=\"left\">\n",
      "    <span class=\"flagicon\">\n",
      "     <img alt=\"\" class=\"thumbborder\" data-file-height=\"600\" data-file-width=\"900\" decoding=\"async\" height=\"15\" src=\"//upload.wikimedia.org/wikipedia/commons/thumb/7/72/Flag_of_the_Republic_of_China.svg/23px-Flag_of_the_Republic_of_China.svg.png\" srcset=\"//upload.wikimedia.org/wikipedia/commons/thumb/7/72/Flag_of_the_Republic_of_China.svg/35px-Flag_of_the_Republic_of_China.svg.png 1.5x, //upload.wikimedia.org/wikipedia/commons/thumb/7/72/Flag_of_the_Republic_of_China.svg/45px-Flag_of_the_Republic_of_China.svg.png 2x\" width=\"23\"/>\n",
      "    </span>\n",
      "    <a href=\"/wiki/Taiwan\" title=\"Taiwan\">\n",
      "     Taiwan\n",
      "    </a>\n",
      "   </td>\n",
      "   <td>\n",
      "    23,604,000\n",
      "   </td>\n",
      "   <td>\n",
      "    36,193\n",
      "   </td>\n",
      "   <td>\n",
      "    652\n",
      "   </td>\n",
      "  </tr>\n",
      "  <tr>\n",
      "   <td>\n",
      "    6\n",
      "   </td>\n",
      "   <td align=\"left\">\n",
      "    <span class=\"flagicon\">\n",
      "     <img alt=\"\" class=\"thumbborder\" data-file-height=\"600\" data-file-width=\"900\" decoding=\"async\" height=\"15\" src=\"//upload.wikimedia.org/wikipedia/commons/thumb/0/09/Flag_of_South_Korea.svg/23px-Flag_of_South_Korea.svg.png\" srcset=\"//upload.wikimedia.org/wikipedia/commons/thumb/0/09/Flag_of_South_Korea.svg/35px-Flag_of_South_Korea.svg.png 1.5x, //upload.wikimedia.org/wikipedia/commons/thumb/0/09/Flag_of_South_Korea.svg/45px-Flag_of_South_Korea.svg.png 2x\" width=\"23\"/>\n",
      "    </span>\n",
      "    <a href=\"/wiki/South_Korea\" title=\"South Korea\">\n",
      "     South Korea\n",
      "    </a>\n",
      "   </td>\n",
      "   <td>\n",
      "    51,781,000\n",
      "   </td>\n",
      "   <td>\n",
      "    99,538\n",
      "   </td>\n",
      "   <td>\n",
      "    520\n",
      "   </td>\n",
      "  </tr>\n",
      "  <tr>\n",
      "   <td>\n",
      "    7\n",
      "   </td>\n",
      "   <td align=\"left\">\n",
      "    <span class=\"flagicon\">\n",
      "     <img alt=\"\" class=\"thumbborder\" data-file-height=\"720\" data-file-width=\"1080\" decoding=\"async\" height=\"15\" src=\"//upload.wikimedia.org/wikipedia/commons/thumb/1/17/Flag_of_Rwanda.svg/23px-Flag_of_Rwanda.svg.png\" srcset=\"//upload.wikimedia.org/wikipedia/commons/thumb/1/17/Flag_of_Rwanda.svg/35px-Flag_of_Rwanda.svg.png 1.5x, //upload.wikimedia.org/wikipedia/commons/thumb/1/17/Flag_of_Rwanda.svg/45px-Flag_of_Rwanda.svg.png 2x\" width=\"23\"/>\n",
      "    </span>\n",
      "    <a href=\"/wiki/Rwanda\" title=\"Rwanda\">\n",
      "     Rwanda\n",
      "    </a>\n",
      "   </td>\n",
      "   <td>\n",
      "    12,374,000\n",
      "   </td>\n",
      "   <td>\n",
      "    26,338\n",
      "   </td>\n",
      "   <td>\n",
      "    470\n",
      "   </td>\n",
      "  </tr>\n",
      "  <tr>\n",
      "   <td>\n",
      "    8\n",
      "   </td>\n",
      "   <td align=\"left\">\n",
      "    <span class=\"flagicon\">\n",
      "     <img alt=\"\" class=\"thumbborder\" data-file-height=\"600\" data-file-width=\"1000\" decoding=\"async\" height=\"14\" src=\"//upload.wikimedia.org/wikipedia/commons/thumb/5/56/Flag_of_Haiti.svg/23px-Flag_of_Haiti.svg.png\" srcset=\"//upload.wikimedia.org/wikipedia/commons/thumb/5/56/Flag_of_Haiti.svg/35px-Flag_of_Haiti.svg.png 1.5x, //upload.wikimedia.org/wikipedia/commons/thumb/5/56/Flag_of_Haiti.svg/46px-Flag_of_Haiti.svg.png 2x\" width=\"23\"/>\n",
      "    </span>\n",
      "    <a href=\"/wiki/Haiti\" title=\"Haiti\">\n",
      "     Haiti\n",
      "    </a>\n",
      "   </td>\n",
      "   <td>\n",
      "    11,578,000\n",
      "   </td>\n",
      "   <td>\n",
      "    27,065\n",
      "   </td>\n",
      "   <td>\n",
      "    428\n",
      "   </td>\n",
      "  </tr>\n",
      "  <tr>\n",
      "   <td>\n",
      "    9\n",
      "   </td>\n",
      "   <td align=\"left\">\n",
      "    <span class=\"flagicon\">\n",
      "     <img alt=\"\" class=\"thumbborder\" data-file-height=\"600\" data-file-width=\"900\" decoding=\"async\" height=\"15\" src=\"//upload.wikimedia.org/wikipedia/commons/thumb/2/20/Flag_of_the_Netherlands.svg/23px-Flag_of_the_Netherlands.svg.png\" srcset=\"//upload.wikimedia.org/wikipedia/commons/thumb/2/20/Flag_of_the_Netherlands.svg/35px-Flag_of_the_Netherlands.svg.png 1.5x, //upload.wikimedia.org/wikipedia/commons/thumb/2/20/Flag_of_the_Netherlands.svg/45px-Flag_of_the_Netherlands.svg.png 2x\" width=\"23\"/>\n",
      "    </span>\n",
      "    <a href=\"/wiki/Netherlands\" title=\"Netherlands\">\n",
      "     Netherlands\n",
      "    </a>\n",
      "   </td>\n",
      "   <td>\n",
      "    17,710,000\n",
      "   </td>\n",
      "   <td>\n",
      "    41,526\n",
      "   </td>\n",
      "   <td>\n",
      "    427\n",
      "   </td>\n",
      "  </tr>\n",
      "  <tr>\n",
      "   <td>\n",
      "    10\n",
      "   </td>\n",
      "   <td align=\"left\">\n",
      "    <span class=\"flagicon\">\n",
      "     <img alt=\"\" class=\"thumbborder\" data-file-height=\"800\" data-file-width=\"1100\" decoding=\"async\" height=\"15\" src=\"//upload.wikimedia.org/wikipedia/commons/thumb/d/d4/Flag_of_Israel.svg/21px-Flag_of_Israel.svg.png\" srcset=\"//upload.wikimedia.org/wikipedia/commons/thumb/d/d4/Flag_of_Israel.svg/32px-Flag_of_Israel.svg.png 1.5x, //upload.wikimedia.org/wikipedia/commons/thumb/d/d4/Flag_of_Israel.svg/41px-Flag_of_Israel.svg.png 2x\" width=\"21\"/>\n",
      "    </span>\n",
      "    <a href=\"/wiki/Israel\" title=\"Israel\">\n",
      "     Israel\n",
      "    </a>\n",
      "   </td>\n",
      "   <td>\n",
      "    9,510,000\n",
      "   </td>\n",
      "   <td>\n",
      "    22,072\n",
      "   </td>\n",
      "   <td>\n",
      "    431\n",
      "   </td>\n",
      "  </tr>\n",
      " </tbody>\n",
      "</table>\n",
      "\n"
     ]
    }
   ],
   "source": [
    "print(tables[table_index].prettify())"
   ]
  },
  {
   "cell_type": "code",
   "execution_count": 27,
   "metadata": {},
   "outputs": [
    {
     "data": {
      "text/html": [
       "<div>\n",
       "<style scoped>\n",
       "    .dataframe tbody tr th:only-of-type {\n",
       "        vertical-align: middle;\n",
       "    }\n",
       "\n",
       "    .dataframe tbody tr th {\n",
       "        vertical-align: top;\n",
       "    }\n",
       "\n",
       "    .dataframe thead th {\n",
       "        text-align: right;\n",
       "    }\n",
       "</style>\n",
       "<table border=\"1\" class=\"dataframe\">\n",
       "  <thead>\n",
       "    <tr style=\"text-align: right;\">\n",
       "      <th></th>\n",
       "      <th>Rank</th>\n",
       "      <th>Country</th>\n",
       "      <th>Population</th>\n",
       "      <th>Area</th>\n",
       "      <th>Density</th>\n",
       "    </tr>\n",
       "  </thead>\n",
       "  <tbody>\n",
       "    <tr>\n",
       "      <th>0</th>\n",
       "      <td>1</td>\n",
       "      <td>Singapore</td>\n",
       "      <td>5,704,000</td>\n",
       "      <td>710</td>\n",
       "      <td>8,033</td>\n",
       "    </tr>\n",
       "    <tr>\n",
       "      <th>0</th>\n",
       "      <td>2</td>\n",
       "      <td>Bangladesh</td>\n",
       "      <td>172,590,000</td>\n",
       "      <td>143,998</td>\n",
       "      <td>1,199</td>\n",
       "    </tr>\n",
       "    <tr>\n",
       "      <th>0</th>\n",
       "      <td>3</td>\n",
       "      <td>\\n Palestine\\n\\n</td>\n",
       "      <td>5,266,785</td>\n",
       "      <td>6,020</td>\n",
       "      <td>847</td>\n",
       "    </tr>\n",
       "    <tr>\n",
       "      <th>0</th>\n",
       "      <td>4</td>\n",
       "      <td>Lebanon</td>\n",
       "      <td>6,856,000</td>\n",
       "      <td>10,452</td>\n",
       "      <td>656</td>\n",
       "    </tr>\n",
       "    <tr>\n",
       "      <th>0</th>\n",
       "      <td>5</td>\n",
       "      <td>Taiwan</td>\n",
       "      <td>23,604,000</td>\n",
       "      <td>36,193</td>\n",
       "      <td>652</td>\n",
       "    </tr>\n",
       "    <tr>\n",
       "      <th>0</th>\n",
       "      <td>6</td>\n",
       "      <td>South Korea</td>\n",
       "      <td>51,781,000</td>\n",
       "      <td>99,538</td>\n",
       "      <td>520</td>\n",
       "    </tr>\n",
       "    <tr>\n",
       "      <th>0</th>\n",
       "      <td>7</td>\n",
       "      <td>Rwanda</td>\n",
       "      <td>12,374,000</td>\n",
       "      <td>26,338</td>\n",
       "      <td>470</td>\n",
       "    </tr>\n",
       "    <tr>\n",
       "      <th>0</th>\n",
       "      <td>8</td>\n",
       "      <td>Haiti</td>\n",
       "      <td>11,578,000</td>\n",
       "      <td>27,065</td>\n",
       "      <td>428</td>\n",
       "    </tr>\n",
       "    <tr>\n",
       "      <th>0</th>\n",
       "      <td>9</td>\n",
       "      <td>Netherlands</td>\n",
       "      <td>17,710,000</td>\n",
       "      <td>41,526</td>\n",
       "      <td>427</td>\n",
       "    </tr>\n",
       "    <tr>\n",
       "      <th>0</th>\n",
       "      <td>10</td>\n",
       "      <td>Israel</td>\n",
       "      <td>9,510,000</td>\n",
       "      <td>22,072</td>\n",
       "      <td>431</td>\n",
       "    </tr>\n",
       "  </tbody>\n",
       "</table>\n",
       "</div>"
      ],
      "text/plain": [
       "  Rank           Country   Population     Area Density\n",
       "0    1         Singapore    5,704,000      710   8,033\n",
       "0    2        Bangladesh  172,590,000  143,998   1,199\n",
       "0    3  \\n Palestine\\n\\n    5,266,785    6,020     847\n",
       "0    4           Lebanon    6,856,000   10,452     656\n",
       "0    5            Taiwan   23,604,000   36,193     652\n",
       "0    6       South Korea   51,781,000   99,538     520\n",
       "0    7            Rwanda   12,374,000   26,338     470\n",
       "0    8             Haiti   11,578,000   27,065     428\n",
       "0    9       Netherlands   17,710,000   41,526     427\n",
       "0   10            Israel    9,510,000   22,072     431"
      ]
     },
     "execution_count": 27,
     "metadata": {},
     "output_type": "execute_result"
    }
   ],
   "source": [
    "dico = pd.DataFrame(columns=[\"Rank\", \"Country\", \"Population\", \"Area\", \"Density\"])\n",
    "\n",
    "for row in tables[table_index].tbody.find_all(\"tr\"):\n",
    "    col = row.find_all(\"td\")\n",
    "    if (col != []):\n",
    "        rank = col[0].text\n",
    "        country = col[1].text\n",
    "        population = col[2].text.strip()\n",
    "        area = col[3].text.strip()\n",
    "        density = col[4].text.strip()\n",
    "        population_data = pd.concat([population_data, pd.DataFrame({\"Rank\":rank, \"Country\":country, \"Population\":population, \"Area\":area, \"Density\":density}, index=[0])])\n",
    "        \n",
    "population_data"
   ]
  },
  {
   "cell_type": "code",
   "execution_count": 28,
   "metadata": {},
   "outputs": [
    {
     "ename": "ImportError",
     "evalue": "html5lib not found, please install it",
     "output_type": "error",
     "traceback": [
      "\u001b[1;31m---------------------------------------------------------------------------\u001b[0m",
      "\u001b[1;31mImportError\u001b[0m                               Traceback (most recent call last)",
      "\u001b[1;32mf:\\API-Universe\\scraping\\2.wikipedia_scraping.ipynb Cell 16'\u001b[0m in \u001b[0;36m<cell line: 1>\u001b[1;34m()\u001b[0m\n\u001b[1;32m----> <a href='vscode-notebook-cell:/f%3A/API-Universe/scraping/2.wikipedia_scraping.ipynb#ch0000015?line=0'>1</a>\u001b[0m pd\u001b[39m.\u001b[39;49mread_html(\u001b[39mstr\u001b[39;49m(tables[\u001b[39m5\u001b[39;49m]), flavor\u001b[39m=\u001b[39;49m\u001b[39m'\u001b[39;49m\u001b[39mbs4\u001b[39;49m\u001b[39m'\u001b[39;49m)\n",
      "File \u001b[1;32m~\\ANACONDA\\envs\\da03_venv\\lib\\site-packages\\pandas\\util\\_decorators.py:311\u001b[0m, in \u001b[0;36mdeprecate_nonkeyword_arguments.<locals>.decorate.<locals>.wrapper\u001b[1;34m(*args, **kwargs)\u001b[0m\n\u001b[0;32m    <a href='file:///c%3A/Users/rkd-win-pc/ANACONDA/envs/da03_venv/lib/site-packages/pandas/util/_decorators.py?line=304'>305</a>\u001b[0m \u001b[39mif\u001b[39;00m \u001b[39mlen\u001b[39m(args) \u001b[39m>\u001b[39m num_allow_args:\n\u001b[0;32m    <a href='file:///c%3A/Users/rkd-win-pc/ANACONDA/envs/da03_venv/lib/site-packages/pandas/util/_decorators.py?line=305'>306</a>\u001b[0m     warnings\u001b[39m.\u001b[39mwarn(\n\u001b[0;32m    <a href='file:///c%3A/Users/rkd-win-pc/ANACONDA/envs/da03_venv/lib/site-packages/pandas/util/_decorators.py?line=306'>307</a>\u001b[0m         msg\u001b[39m.\u001b[39mformat(arguments\u001b[39m=\u001b[39marguments),\n\u001b[0;32m    <a href='file:///c%3A/Users/rkd-win-pc/ANACONDA/envs/da03_venv/lib/site-packages/pandas/util/_decorators.py?line=307'>308</a>\u001b[0m         \u001b[39mFutureWarning\u001b[39;00m,\n\u001b[0;32m    <a href='file:///c%3A/Users/rkd-win-pc/ANACONDA/envs/da03_venv/lib/site-packages/pandas/util/_decorators.py?line=308'>309</a>\u001b[0m         stacklevel\u001b[39m=\u001b[39mstacklevel,\n\u001b[0;32m    <a href='file:///c%3A/Users/rkd-win-pc/ANACONDA/envs/da03_venv/lib/site-packages/pandas/util/_decorators.py?line=309'>310</a>\u001b[0m     )\n\u001b[1;32m--> <a href='file:///c%3A/Users/rkd-win-pc/ANACONDA/envs/da03_venv/lib/site-packages/pandas/util/_decorators.py?line=310'>311</a>\u001b[0m \u001b[39mreturn\u001b[39;00m func(\u001b[39m*\u001b[39;49margs, \u001b[39m*\u001b[39;49m\u001b[39m*\u001b[39;49mkwargs)\n",
      "File \u001b[1;32m~\\ANACONDA\\envs\\da03_venv\\lib\\site-packages\\pandas\\io\\html.py:1113\u001b[0m, in \u001b[0;36mread_html\u001b[1;34m(io, match, flavor, header, index_col, skiprows, attrs, parse_dates, thousands, encoding, decimal, converters, na_values, keep_default_na, displayed_only)\u001b[0m\n\u001b[0;32m   <a href='file:///c%3A/Users/rkd-win-pc/ANACONDA/envs/da03_venv/lib/site-packages/pandas/io/html.py?line=1108'>1109</a>\u001b[0m validate_header_arg(header)\n\u001b[0;32m   <a href='file:///c%3A/Users/rkd-win-pc/ANACONDA/envs/da03_venv/lib/site-packages/pandas/io/html.py?line=1110'>1111</a>\u001b[0m io \u001b[39m=\u001b[39m stringify_path(io)\n\u001b[1;32m-> <a href='file:///c%3A/Users/rkd-win-pc/ANACONDA/envs/da03_venv/lib/site-packages/pandas/io/html.py?line=1112'>1113</a>\u001b[0m \u001b[39mreturn\u001b[39;00m _parse(\n\u001b[0;32m   <a href='file:///c%3A/Users/rkd-win-pc/ANACONDA/envs/da03_venv/lib/site-packages/pandas/io/html.py?line=1113'>1114</a>\u001b[0m     flavor\u001b[39m=\u001b[39;49mflavor,\n\u001b[0;32m   <a href='file:///c%3A/Users/rkd-win-pc/ANACONDA/envs/da03_venv/lib/site-packages/pandas/io/html.py?line=1114'>1115</a>\u001b[0m     io\u001b[39m=\u001b[39;49mio,\n\u001b[0;32m   <a href='file:///c%3A/Users/rkd-win-pc/ANACONDA/envs/da03_venv/lib/site-packages/pandas/io/html.py?line=1115'>1116</a>\u001b[0m     match\u001b[39m=\u001b[39;49mmatch,\n\u001b[0;32m   <a href='file:///c%3A/Users/rkd-win-pc/ANACONDA/envs/da03_venv/lib/site-packages/pandas/io/html.py?line=1116'>1117</a>\u001b[0m     header\u001b[39m=\u001b[39;49mheader,\n\u001b[0;32m   <a href='file:///c%3A/Users/rkd-win-pc/ANACONDA/envs/da03_venv/lib/site-packages/pandas/io/html.py?line=1117'>1118</a>\u001b[0m     index_col\u001b[39m=\u001b[39;49mindex_col,\n\u001b[0;32m   <a href='file:///c%3A/Users/rkd-win-pc/ANACONDA/envs/da03_venv/lib/site-packages/pandas/io/html.py?line=1118'>1119</a>\u001b[0m     skiprows\u001b[39m=\u001b[39;49mskiprows,\n\u001b[0;32m   <a href='file:///c%3A/Users/rkd-win-pc/ANACONDA/envs/da03_venv/lib/site-packages/pandas/io/html.py?line=1119'>1120</a>\u001b[0m     parse_dates\u001b[39m=\u001b[39;49mparse_dates,\n\u001b[0;32m   <a href='file:///c%3A/Users/rkd-win-pc/ANACONDA/envs/da03_venv/lib/site-packages/pandas/io/html.py?line=1120'>1121</a>\u001b[0m     thousands\u001b[39m=\u001b[39;49mthousands,\n\u001b[0;32m   <a href='file:///c%3A/Users/rkd-win-pc/ANACONDA/envs/da03_venv/lib/site-packages/pandas/io/html.py?line=1121'>1122</a>\u001b[0m     attrs\u001b[39m=\u001b[39;49mattrs,\n\u001b[0;32m   <a href='file:///c%3A/Users/rkd-win-pc/ANACONDA/envs/da03_venv/lib/site-packages/pandas/io/html.py?line=1122'>1123</a>\u001b[0m     encoding\u001b[39m=\u001b[39;49mencoding,\n\u001b[0;32m   <a href='file:///c%3A/Users/rkd-win-pc/ANACONDA/envs/da03_venv/lib/site-packages/pandas/io/html.py?line=1123'>1124</a>\u001b[0m     decimal\u001b[39m=\u001b[39;49mdecimal,\n\u001b[0;32m   <a href='file:///c%3A/Users/rkd-win-pc/ANACONDA/envs/da03_venv/lib/site-packages/pandas/io/html.py?line=1124'>1125</a>\u001b[0m     converters\u001b[39m=\u001b[39;49mconverters,\n\u001b[0;32m   <a href='file:///c%3A/Users/rkd-win-pc/ANACONDA/envs/da03_venv/lib/site-packages/pandas/io/html.py?line=1125'>1126</a>\u001b[0m     na_values\u001b[39m=\u001b[39;49mna_values,\n\u001b[0;32m   <a href='file:///c%3A/Users/rkd-win-pc/ANACONDA/envs/da03_venv/lib/site-packages/pandas/io/html.py?line=1126'>1127</a>\u001b[0m     keep_default_na\u001b[39m=\u001b[39;49mkeep_default_na,\n\u001b[0;32m   <a href='file:///c%3A/Users/rkd-win-pc/ANACONDA/envs/da03_venv/lib/site-packages/pandas/io/html.py?line=1127'>1128</a>\u001b[0m     displayed_only\u001b[39m=\u001b[39;49mdisplayed_only,\n\u001b[0;32m   <a href='file:///c%3A/Users/rkd-win-pc/ANACONDA/envs/da03_venv/lib/site-packages/pandas/io/html.py?line=1128'>1129</a>\u001b[0m )\n",
      "File \u001b[1;32m~\\ANACONDA\\envs\\da03_venv\\lib\\site-packages\\pandas\\io\\html.py:915\u001b[0m, in \u001b[0;36m_parse\u001b[1;34m(flavor, io, match, attrs, encoding, displayed_only, **kwargs)\u001b[0m\n\u001b[0;32m    <a href='file:///c%3A/Users/rkd-win-pc/ANACONDA/envs/da03_venv/lib/site-packages/pandas/io/html.py?line=912'>913</a>\u001b[0m retained \u001b[39m=\u001b[39m \u001b[39mNone\u001b[39;00m\n\u001b[0;32m    <a href='file:///c%3A/Users/rkd-win-pc/ANACONDA/envs/da03_venv/lib/site-packages/pandas/io/html.py?line=913'>914</a>\u001b[0m \u001b[39mfor\u001b[39;00m flav \u001b[39min\u001b[39;00m flavor:\n\u001b[1;32m--> <a href='file:///c%3A/Users/rkd-win-pc/ANACONDA/envs/da03_venv/lib/site-packages/pandas/io/html.py?line=914'>915</a>\u001b[0m     parser \u001b[39m=\u001b[39m _parser_dispatch(flav)\n\u001b[0;32m    <a href='file:///c%3A/Users/rkd-win-pc/ANACONDA/envs/da03_venv/lib/site-packages/pandas/io/html.py?line=915'>916</a>\u001b[0m     p \u001b[39m=\u001b[39m parser(io, compiled_match, attrs, encoding, displayed_only)\n\u001b[0;32m    <a href='file:///c%3A/Users/rkd-win-pc/ANACONDA/envs/da03_venv/lib/site-packages/pandas/io/html.py?line=917'>918</a>\u001b[0m     \u001b[39mtry\u001b[39;00m:\n",
      "File \u001b[1;32m~\\ANACONDA\\envs\\da03_venv\\lib\\site-packages\\pandas\\io\\html.py:864\u001b[0m, in \u001b[0;36m_parser_dispatch\u001b[1;34m(flavor)\u001b[0m\n\u001b[0;32m    <a href='file:///c%3A/Users/rkd-win-pc/ANACONDA/envs/da03_venv/lib/site-packages/pandas/io/html.py?line=861'>862</a>\u001b[0m \u001b[39mif\u001b[39;00m flavor \u001b[39min\u001b[39;00m (\u001b[39m\"\u001b[39m\u001b[39mbs4\u001b[39m\u001b[39m\"\u001b[39m, \u001b[39m\"\u001b[39m\u001b[39mhtml5lib\u001b[39m\u001b[39m\"\u001b[39m):\n\u001b[0;32m    <a href='file:///c%3A/Users/rkd-win-pc/ANACONDA/envs/da03_venv/lib/site-packages/pandas/io/html.py?line=862'>863</a>\u001b[0m     \u001b[39mif\u001b[39;00m \u001b[39mnot\u001b[39;00m _HAS_HTML5LIB:\n\u001b[1;32m--> <a href='file:///c%3A/Users/rkd-win-pc/ANACONDA/envs/da03_venv/lib/site-packages/pandas/io/html.py?line=863'>864</a>\u001b[0m         \u001b[39mraise\u001b[39;00m \u001b[39mImportError\u001b[39;00m(\u001b[39m\"\u001b[39m\u001b[39mhtml5lib not found, please install it\u001b[39m\u001b[39m\"\u001b[39m)\n\u001b[0;32m    <a href='file:///c%3A/Users/rkd-win-pc/ANACONDA/envs/da03_venv/lib/site-packages/pandas/io/html.py?line=864'>865</a>\u001b[0m     \u001b[39mif\u001b[39;00m \u001b[39mnot\u001b[39;00m _HAS_BS4:\n\u001b[0;32m    <a href='file:///c%3A/Users/rkd-win-pc/ANACONDA/envs/da03_venv/lib/site-packages/pandas/io/html.py?line=865'>866</a>\u001b[0m         \u001b[39mraise\u001b[39;00m \u001b[39mImportError\u001b[39;00m(\u001b[39m\"\u001b[39m\u001b[39mBeautifulSoup4 (bs4) not found, please install it\u001b[39m\u001b[39m\"\u001b[39m)\n",
      "\u001b[1;31mImportError\u001b[0m: html5lib not found, please install it"
     ]
    }
   ],
   "source": [
    "pd.read_html(str(tables[5]), flavor='bs4')"
   ]
  },
  {
   "cell_type": "code",
   "execution_count": 29,
   "metadata": {},
   "outputs": [
    {
     "ename": "ImportError",
     "evalue": "html5lib not found, please install it",
     "output_type": "error",
     "traceback": [
      "\u001b[1;31m---------------------------------------------------------------------------\u001b[0m",
      "\u001b[1;31mImportError\u001b[0m                               Traceback (most recent call last)",
      "\u001b[1;32mf:\\API-Universe\\scraping\\2.wikipedia_scraping.ipynb Cell 17'\u001b[0m in \u001b[0;36m<cell line: 1>\u001b[1;34m()\u001b[0m\n\u001b[1;32m----> <a href='vscode-notebook-cell:/f%3A/API-Universe/scraping/2.wikipedia_scraping.ipynb#ch0000016?line=0'>1</a>\u001b[0m population_data_read_html \u001b[39m=\u001b[39m pd\u001b[39m.\u001b[39;49mread_html(\u001b[39mstr\u001b[39;49m(tables[\u001b[39m5\u001b[39;49m]), flavor\u001b[39m=\u001b[39;49m\u001b[39m'\u001b[39;49m\u001b[39mbs4\u001b[39;49m\u001b[39m'\u001b[39;49m)[\u001b[39m0\u001b[39m]\n\u001b[0;32m      <a href='vscode-notebook-cell:/f%3A/API-Universe/scraping/2.wikipedia_scraping.ipynb#ch0000016?line=1'>2</a>\u001b[0m population_data_read_html\n",
      "File \u001b[1;32m~\\ANACONDA\\envs\\da03_venv\\lib\\site-packages\\pandas\\util\\_decorators.py:311\u001b[0m, in \u001b[0;36mdeprecate_nonkeyword_arguments.<locals>.decorate.<locals>.wrapper\u001b[1;34m(*args, **kwargs)\u001b[0m\n\u001b[0;32m    <a href='file:///c%3A/Users/rkd-win-pc/ANACONDA/envs/da03_venv/lib/site-packages/pandas/util/_decorators.py?line=304'>305</a>\u001b[0m \u001b[39mif\u001b[39;00m \u001b[39mlen\u001b[39m(args) \u001b[39m>\u001b[39m num_allow_args:\n\u001b[0;32m    <a href='file:///c%3A/Users/rkd-win-pc/ANACONDA/envs/da03_venv/lib/site-packages/pandas/util/_decorators.py?line=305'>306</a>\u001b[0m     warnings\u001b[39m.\u001b[39mwarn(\n\u001b[0;32m    <a href='file:///c%3A/Users/rkd-win-pc/ANACONDA/envs/da03_venv/lib/site-packages/pandas/util/_decorators.py?line=306'>307</a>\u001b[0m         msg\u001b[39m.\u001b[39mformat(arguments\u001b[39m=\u001b[39marguments),\n\u001b[0;32m    <a href='file:///c%3A/Users/rkd-win-pc/ANACONDA/envs/da03_venv/lib/site-packages/pandas/util/_decorators.py?line=307'>308</a>\u001b[0m         \u001b[39mFutureWarning\u001b[39;00m,\n\u001b[0;32m    <a href='file:///c%3A/Users/rkd-win-pc/ANACONDA/envs/da03_venv/lib/site-packages/pandas/util/_decorators.py?line=308'>309</a>\u001b[0m         stacklevel\u001b[39m=\u001b[39mstacklevel,\n\u001b[0;32m    <a href='file:///c%3A/Users/rkd-win-pc/ANACONDA/envs/da03_venv/lib/site-packages/pandas/util/_decorators.py?line=309'>310</a>\u001b[0m     )\n\u001b[1;32m--> <a href='file:///c%3A/Users/rkd-win-pc/ANACONDA/envs/da03_venv/lib/site-packages/pandas/util/_decorators.py?line=310'>311</a>\u001b[0m \u001b[39mreturn\u001b[39;00m func(\u001b[39m*\u001b[39;49margs, \u001b[39m*\u001b[39;49m\u001b[39m*\u001b[39;49mkwargs)\n",
      "File \u001b[1;32m~\\ANACONDA\\envs\\da03_venv\\lib\\site-packages\\pandas\\io\\html.py:1113\u001b[0m, in \u001b[0;36mread_html\u001b[1;34m(io, match, flavor, header, index_col, skiprows, attrs, parse_dates, thousands, encoding, decimal, converters, na_values, keep_default_na, displayed_only)\u001b[0m\n\u001b[0;32m   <a href='file:///c%3A/Users/rkd-win-pc/ANACONDA/envs/da03_venv/lib/site-packages/pandas/io/html.py?line=1108'>1109</a>\u001b[0m validate_header_arg(header)\n\u001b[0;32m   <a href='file:///c%3A/Users/rkd-win-pc/ANACONDA/envs/da03_venv/lib/site-packages/pandas/io/html.py?line=1110'>1111</a>\u001b[0m io \u001b[39m=\u001b[39m stringify_path(io)\n\u001b[1;32m-> <a href='file:///c%3A/Users/rkd-win-pc/ANACONDA/envs/da03_venv/lib/site-packages/pandas/io/html.py?line=1112'>1113</a>\u001b[0m \u001b[39mreturn\u001b[39;00m _parse(\n\u001b[0;32m   <a href='file:///c%3A/Users/rkd-win-pc/ANACONDA/envs/da03_venv/lib/site-packages/pandas/io/html.py?line=1113'>1114</a>\u001b[0m     flavor\u001b[39m=\u001b[39;49mflavor,\n\u001b[0;32m   <a href='file:///c%3A/Users/rkd-win-pc/ANACONDA/envs/da03_venv/lib/site-packages/pandas/io/html.py?line=1114'>1115</a>\u001b[0m     io\u001b[39m=\u001b[39;49mio,\n\u001b[0;32m   <a href='file:///c%3A/Users/rkd-win-pc/ANACONDA/envs/da03_venv/lib/site-packages/pandas/io/html.py?line=1115'>1116</a>\u001b[0m     match\u001b[39m=\u001b[39;49mmatch,\n\u001b[0;32m   <a href='file:///c%3A/Users/rkd-win-pc/ANACONDA/envs/da03_venv/lib/site-packages/pandas/io/html.py?line=1116'>1117</a>\u001b[0m     header\u001b[39m=\u001b[39;49mheader,\n\u001b[0;32m   <a href='file:///c%3A/Users/rkd-win-pc/ANACONDA/envs/da03_venv/lib/site-packages/pandas/io/html.py?line=1117'>1118</a>\u001b[0m     index_col\u001b[39m=\u001b[39;49mindex_col,\n\u001b[0;32m   <a href='file:///c%3A/Users/rkd-win-pc/ANACONDA/envs/da03_venv/lib/site-packages/pandas/io/html.py?line=1118'>1119</a>\u001b[0m     skiprows\u001b[39m=\u001b[39;49mskiprows,\n\u001b[0;32m   <a href='file:///c%3A/Users/rkd-win-pc/ANACONDA/envs/da03_venv/lib/site-packages/pandas/io/html.py?line=1119'>1120</a>\u001b[0m     parse_dates\u001b[39m=\u001b[39;49mparse_dates,\n\u001b[0;32m   <a href='file:///c%3A/Users/rkd-win-pc/ANACONDA/envs/da03_venv/lib/site-packages/pandas/io/html.py?line=1120'>1121</a>\u001b[0m     thousands\u001b[39m=\u001b[39;49mthousands,\n\u001b[0;32m   <a href='file:///c%3A/Users/rkd-win-pc/ANACONDA/envs/da03_venv/lib/site-packages/pandas/io/html.py?line=1121'>1122</a>\u001b[0m     attrs\u001b[39m=\u001b[39;49mattrs,\n\u001b[0;32m   <a href='file:///c%3A/Users/rkd-win-pc/ANACONDA/envs/da03_venv/lib/site-packages/pandas/io/html.py?line=1122'>1123</a>\u001b[0m     encoding\u001b[39m=\u001b[39;49mencoding,\n\u001b[0;32m   <a href='file:///c%3A/Users/rkd-win-pc/ANACONDA/envs/da03_venv/lib/site-packages/pandas/io/html.py?line=1123'>1124</a>\u001b[0m     decimal\u001b[39m=\u001b[39;49mdecimal,\n\u001b[0;32m   <a href='file:///c%3A/Users/rkd-win-pc/ANACONDA/envs/da03_venv/lib/site-packages/pandas/io/html.py?line=1124'>1125</a>\u001b[0m     converters\u001b[39m=\u001b[39;49mconverters,\n\u001b[0;32m   <a href='file:///c%3A/Users/rkd-win-pc/ANACONDA/envs/da03_venv/lib/site-packages/pandas/io/html.py?line=1125'>1126</a>\u001b[0m     na_values\u001b[39m=\u001b[39;49mna_values,\n\u001b[0;32m   <a href='file:///c%3A/Users/rkd-win-pc/ANACONDA/envs/da03_venv/lib/site-packages/pandas/io/html.py?line=1126'>1127</a>\u001b[0m     keep_default_na\u001b[39m=\u001b[39;49mkeep_default_na,\n\u001b[0;32m   <a href='file:///c%3A/Users/rkd-win-pc/ANACONDA/envs/da03_venv/lib/site-packages/pandas/io/html.py?line=1127'>1128</a>\u001b[0m     displayed_only\u001b[39m=\u001b[39;49mdisplayed_only,\n\u001b[0;32m   <a href='file:///c%3A/Users/rkd-win-pc/ANACONDA/envs/da03_venv/lib/site-packages/pandas/io/html.py?line=1128'>1129</a>\u001b[0m )\n",
      "File \u001b[1;32m~\\ANACONDA\\envs\\da03_venv\\lib\\site-packages\\pandas\\io\\html.py:915\u001b[0m, in \u001b[0;36m_parse\u001b[1;34m(flavor, io, match, attrs, encoding, displayed_only, **kwargs)\u001b[0m\n\u001b[0;32m    <a href='file:///c%3A/Users/rkd-win-pc/ANACONDA/envs/da03_venv/lib/site-packages/pandas/io/html.py?line=912'>913</a>\u001b[0m retained \u001b[39m=\u001b[39m \u001b[39mNone\u001b[39;00m\n\u001b[0;32m    <a href='file:///c%3A/Users/rkd-win-pc/ANACONDA/envs/da03_venv/lib/site-packages/pandas/io/html.py?line=913'>914</a>\u001b[0m \u001b[39mfor\u001b[39;00m flav \u001b[39min\u001b[39;00m flavor:\n\u001b[1;32m--> <a href='file:///c%3A/Users/rkd-win-pc/ANACONDA/envs/da03_venv/lib/site-packages/pandas/io/html.py?line=914'>915</a>\u001b[0m     parser \u001b[39m=\u001b[39m _parser_dispatch(flav)\n\u001b[0;32m    <a href='file:///c%3A/Users/rkd-win-pc/ANACONDA/envs/da03_venv/lib/site-packages/pandas/io/html.py?line=915'>916</a>\u001b[0m     p \u001b[39m=\u001b[39m parser(io, compiled_match, attrs, encoding, displayed_only)\n\u001b[0;32m    <a href='file:///c%3A/Users/rkd-win-pc/ANACONDA/envs/da03_venv/lib/site-packages/pandas/io/html.py?line=917'>918</a>\u001b[0m     \u001b[39mtry\u001b[39;00m:\n",
      "File \u001b[1;32m~\\ANACONDA\\envs\\da03_venv\\lib\\site-packages\\pandas\\io\\html.py:864\u001b[0m, in \u001b[0;36m_parser_dispatch\u001b[1;34m(flavor)\u001b[0m\n\u001b[0;32m    <a href='file:///c%3A/Users/rkd-win-pc/ANACONDA/envs/da03_venv/lib/site-packages/pandas/io/html.py?line=861'>862</a>\u001b[0m \u001b[39mif\u001b[39;00m flavor \u001b[39min\u001b[39;00m (\u001b[39m\"\u001b[39m\u001b[39mbs4\u001b[39m\u001b[39m\"\u001b[39m, \u001b[39m\"\u001b[39m\u001b[39mhtml5lib\u001b[39m\u001b[39m\"\u001b[39m):\n\u001b[0;32m    <a href='file:///c%3A/Users/rkd-win-pc/ANACONDA/envs/da03_venv/lib/site-packages/pandas/io/html.py?line=862'>863</a>\u001b[0m     \u001b[39mif\u001b[39;00m \u001b[39mnot\u001b[39;00m _HAS_HTML5LIB:\n\u001b[1;32m--> <a href='file:///c%3A/Users/rkd-win-pc/ANACONDA/envs/da03_venv/lib/site-packages/pandas/io/html.py?line=863'>864</a>\u001b[0m         \u001b[39mraise\u001b[39;00m \u001b[39mImportError\u001b[39;00m(\u001b[39m\"\u001b[39m\u001b[39mhtml5lib not found, please install it\u001b[39m\u001b[39m\"\u001b[39m)\n\u001b[0;32m    <a href='file:///c%3A/Users/rkd-win-pc/ANACONDA/envs/da03_venv/lib/site-packages/pandas/io/html.py?line=864'>865</a>\u001b[0m     \u001b[39mif\u001b[39;00m \u001b[39mnot\u001b[39;00m _HAS_BS4:\n\u001b[0;32m    <a href='file:///c%3A/Users/rkd-win-pc/ANACONDA/envs/da03_venv/lib/site-packages/pandas/io/html.py?line=865'>866</a>\u001b[0m         \u001b[39mraise\u001b[39;00m \u001b[39mImportError\u001b[39;00m(\u001b[39m\"\u001b[39m\u001b[39mBeautifulSoup4 (bs4) not found, please install it\u001b[39m\u001b[39m\"\u001b[39m)\n",
      "\u001b[1;31mImportError\u001b[0m: html5lib not found, please install it"
     ]
    }
   ],
   "source": [
    "population_data_read_html = pd.read_html(str(tables[5]), flavor='bs4')[0]\n",
    "population_data_read_html"
   ]
  },
  {
   "cell_type": "code",
   "execution_count": 30,
   "metadata": {},
   "outputs": [
    {
     "ename": "ImportError",
     "evalue": "html5lib not found, please install it",
     "output_type": "error",
     "traceback": [
      "\u001b[1;31m---------------------------------------------------------------------------\u001b[0m",
      "\u001b[1;31mImportError\u001b[0m                               Traceback (most recent call last)",
      "\u001b[1;32mf:\\API-Universe\\scraping\\2.wikipedia_scraping.ipynb Cell 18'\u001b[0m in \u001b[0;36m<cell line: 1>\u001b[1;34m()\u001b[0m\n\u001b[1;32m----> <a href='vscode-notebook-cell:/f%3A/API-Universe/scraping/2.wikipedia_scraping.ipynb#ch0000017?line=0'>1</a>\u001b[0m dataframe_list \u001b[39m=\u001b[39m pd\u001b[39m.\u001b[39;49mread_html(url, flavor\u001b[39m=\u001b[39;49m\u001b[39m'\u001b[39;49m\u001b[39mbs4\u001b[39;49m\u001b[39m'\u001b[39;49m)\n\u001b[0;32m      <a href='vscode-notebook-cell:/f%3A/API-Universe/scraping/2.wikipedia_scraping.ipynb#ch0000017?line=1'>2</a>\u001b[0m \u001b[39mlen\u001b[39m(dataframe_list)\n",
      "File \u001b[1;32m~\\ANACONDA\\envs\\da03_venv\\lib\\site-packages\\pandas\\util\\_decorators.py:311\u001b[0m, in \u001b[0;36mdeprecate_nonkeyword_arguments.<locals>.decorate.<locals>.wrapper\u001b[1;34m(*args, **kwargs)\u001b[0m\n\u001b[0;32m    <a href='file:///c%3A/Users/rkd-win-pc/ANACONDA/envs/da03_venv/lib/site-packages/pandas/util/_decorators.py?line=304'>305</a>\u001b[0m \u001b[39mif\u001b[39;00m \u001b[39mlen\u001b[39m(args) \u001b[39m>\u001b[39m num_allow_args:\n\u001b[0;32m    <a href='file:///c%3A/Users/rkd-win-pc/ANACONDA/envs/da03_venv/lib/site-packages/pandas/util/_decorators.py?line=305'>306</a>\u001b[0m     warnings\u001b[39m.\u001b[39mwarn(\n\u001b[0;32m    <a href='file:///c%3A/Users/rkd-win-pc/ANACONDA/envs/da03_venv/lib/site-packages/pandas/util/_decorators.py?line=306'>307</a>\u001b[0m         msg\u001b[39m.\u001b[39mformat(arguments\u001b[39m=\u001b[39marguments),\n\u001b[0;32m    <a href='file:///c%3A/Users/rkd-win-pc/ANACONDA/envs/da03_venv/lib/site-packages/pandas/util/_decorators.py?line=307'>308</a>\u001b[0m         \u001b[39mFutureWarning\u001b[39;00m,\n\u001b[0;32m    <a href='file:///c%3A/Users/rkd-win-pc/ANACONDA/envs/da03_venv/lib/site-packages/pandas/util/_decorators.py?line=308'>309</a>\u001b[0m         stacklevel\u001b[39m=\u001b[39mstacklevel,\n\u001b[0;32m    <a href='file:///c%3A/Users/rkd-win-pc/ANACONDA/envs/da03_venv/lib/site-packages/pandas/util/_decorators.py?line=309'>310</a>\u001b[0m     )\n\u001b[1;32m--> <a href='file:///c%3A/Users/rkd-win-pc/ANACONDA/envs/da03_venv/lib/site-packages/pandas/util/_decorators.py?line=310'>311</a>\u001b[0m \u001b[39mreturn\u001b[39;00m func(\u001b[39m*\u001b[39;49margs, \u001b[39m*\u001b[39;49m\u001b[39m*\u001b[39;49mkwargs)\n",
      "File \u001b[1;32m~\\ANACONDA\\envs\\da03_venv\\lib\\site-packages\\pandas\\io\\html.py:1113\u001b[0m, in \u001b[0;36mread_html\u001b[1;34m(io, match, flavor, header, index_col, skiprows, attrs, parse_dates, thousands, encoding, decimal, converters, na_values, keep_default_na, displayed_only)\u001b[0m\n\u001b[0;32m   <a href='file:///c%3A/Users/rkd-win-pc/ANACONDA/envs/da03_venv/lib/site-packages/pandas/io/html.py?line=1108'>1109</a>\u001b[0m validate_header_arg(header)\n\u001b[0;32m   <a href='file:///c%3A/Users/rkd-win-pc/ANACONDA/envs/da03_venv/lib/site-packages/pandas/io/html.py?line=1110'>1111</a>\u001b[0m io \u001b[39m=\u001b[39m stringify_path(io)\n\u001b[1;32m-> <a href='file:///c%3A/Users/rkd-win-pc/ANACONDA/envs/da03_venv/lib/site-packages/pandas/io/html.py?line=1112'>1113</a>\u001b[0m \u001b[39mreturn\u001b[39;00m _parse(\n\u001b[0;32m   <a href='file:///c%3A/Users/rkd-win-pc/ANACONDA/envs/da03_venv/lib/site-packages/pandas/io/html.py?line=1113'>1114</a>\u001b[0m     flavor\u001b[39m=\u001b[39;49mflavor,\n\u001b[0;32m   <a href='file:///c%3A/Users/rkd-win-pc/ANACONDA/envs/da03_venv/lib/site-packages/pandas/io/html.py?line=1114'>1115</a>\u001b[0m     io\u001b[39m=\u001b[39;49mio,\n\u001b[0;32m   <a href='file:///c%3A/Users/rkd-win-pc/ANACONDA/envs/da03_venv/lib/site-packages/pandas/io/html.py?line=1115'>1116</a>\u001b[0m     match\u001b[39m=\u001b[39;49mmatch,\n\u001b[0;32m   <a href='file:///c%3A/Users/rkd-win-pc/ANACONDA/envs/da03_venv/lib/site-packages/pandas/io/html.py?line=1116'>1117</a>\u001b[0m     header\u001b[39m=\u001b[39;49mheader,\n\u001b[0;32m   <a href='file:///c%3A/Users/rkd-win-pc/ANACONDA/envs/da03_venv/lib/site-packages/pandas/io/html.py?line=1117'>1118</a>\u001b[0m     index_col\u001b[39m=\u001b[39;49mindex_col,\n\u001b[0;32m   <a href='file:///c%3A/Users/rkd-win-pc/ANACONDA/envs/da03_venv/lib/site-packages/pandas/io/html.py?line=1118'>1119</a>\u001b[0m     skiprows\u001b[39m=\u001b[39;49mskiprows,\n\u001b[0;32m   <a href='file:///c%3A/Users/rkd-win-pc/ANACONDA/envs/da03_venv/lib/site-packages/pandas/io/html.py?line=1119'>1120</a>\u001b[0m     parse_dates\u001b[39m=\u001b[39;49mparse_dates,\n\u001b[0;32m   <a href='file:///c%3A/Users/rkd-win-pc/ANACONDA/envs/da03_venv/lib/site-packages/pandas/io/html.py?line=1120'>1121</a>\u001b[0m     thousands\u001b[39m=\u001b[39;49mthousands,\n\u001b[0;32m   <a href='file:///c%3A/Users/rkd-win-pc/ANACONDA/envs/da03_venv/lib/site-packages/pandas/io/html.py?line=1121'>1122</a>\u001b[0m     attrs\u001b[39m=\u001b[39;49mattrs,\n\u001b[0;32m   <a href='file:///c%3A/Users/rkd-win-pc/ANACONDA/envs/da03_venv/lib/site-packages/pandas/io/html.py?line=1122'>1123</a>\u001b[0m     encoding\u001b[39m=\u001b[39;49mencoding,\n\u001b[0;32m   <a href='file:///c%3A/Users/rkd-win-pc/ANACONDA/envs/da03_venv/lib/site-packages/pandas/io/html.py?line=1123'>1124</a>\u001b[0m     decimal\u001b[39m=\u001b[39;49mdecimal,\n\u001b[0;32m   <a href='file:///c%3A/Users/rkd-win-pc/ANACONDA/envs/da03_venv/lib/site-packages/pandas/io/html.py?line=1124'>1125</a>\u001b[0m     converters\u001b[39m=\u001b[39;49mconverters,\n\u001b[0;32m   <a href='file:///c%3A/Users/rkd-win-pc/ANACONDA/envs/da03_venv/lib/site-packages/pandas/io/html.py?line=1125'>1126</a>\u001b[0m     na_values\u001b[39m=\u001b[39;49mna_values,\n\u001b[0;32m   <a href='file:///c%3A/Users/rkd-win-pc/ANACONDA/envs/da03_venv/lib/site-packages/pandas/io/html.py?line=1126'>1127</a>\u001b[0m     keep_default_na\u001b[39m=\u001b[39;49mkeep_default_na,\n\u001b[0;32m   <a href='file:///c%3A/Users/rkd-win-pc/ANACONDA/envs/da03_venv/lib/site-packages/pandas/io/html.py?line=1127'>1128</a>\u001b[0m     displayed_only\u001b[39m=\u001b[39;49mdisplayed_only,\n\u001b[0;32m   <a href='file:///c%3A/Users/rkd-win-pc/ANACONDA/envs/da03_venv/lib/site-packages/pandas/io/html.py?line=1128'>1129</a>\u001b[0m )\n",
      "File \u001b[1;32m~\\ANACONDA\\envs\\da03_venv\\lib\\site-packages\\pandas\\io\\html.py:915\u001b[0m, in \u001b[0;36m_parse\u001b[1;34m(flavor, io, match, attrs, encoding, displayed_only, **kwargs)\u001b[0m\n\u001b[0;32m    <a href='file:///c%3A/Users/rkd-win-pc/ANACONDA/envs/da03_venv/lib/site-packages/pandas/io/html.py?line=912'>913</a>\u001b[0m retained \u001b[39m=\u001b[39m \u001b[39mNone\u001b[39;00m\n\u001b[0;32m    <a href='file:///c%3A/Users/rkd-win-pc/ANACONDA/envs/da03_venv/lib/site-packages/pandas/io/html.py?line=913'>914</a>\u001b[0m \u001b[39mfor\u001b[39;00m flav \u001b[39min\u001b[39;00m flavor:\n\u001b[1;32m--> <a href='file:///c%3A/Users/rkd-win-pc/ANACONDA/envs/da03_venv/lib/site-packages/pandas/io/html.py?line=914'>915</a>\u001b[0m     parser \u001b[39m=\u001b[39m _parser_dispatch(flav)\n\u001b[0;32m    <a href='file:///c%3A/Users/rkd-win-pc/ANACONDA/envs/da03_venv/lib/site-packages/pandas/io/html.py?line=915'>916</a>\u001b[0m     p \u001b[39m=\u001b[39m parser(io, compiled_match, attrs, encoding, displayed_only)\n\u001b[0;32m    <a href='file:///c%3A/Users/rkd-win-pc/ANACONDA/envs/da03_venv/lib/site-packages/pandas/io/html.py?line=917'>918</a>\u001b[0m     \u001b[39mtry\u001b[39;00m:\n",
      "File \u001b[1;32m~\\ANACONDA\\envs\\da03_venv\\lib\\site-packages\\pandas\\io\\html.py:864\u001b[0m, in \u001b[0;36m_parser_dispatch\u001b[1;34m(flavor)\u001b[0m\n\u001b[0;32m    <a href='file:///c%3A/Users/rkd-win-pc/ANACONDA/envs/da03_venv/lib/site-packages/pandas/io/html.py?line=861'>862</a>\u001b[0m \u001b[39mif\u001b[39;00m flavor \u001b[39min\u001b[39;00m (\u001b[39m\"\u001b[39m\u001b[39mbs4\u001b[39m\u001b[39m\"\u001b[39m, \u001b[39m\"\u001b[39m\u001b[39mhtml5lib\u001b[39m\u001b[39m\"\u001b[39m):\n\u001b[0;32m    <a href='file:///c%3A/Users/rkd-win-pc/ANACONDA/envs/da03_venv/lib/site-packages/pandas/io/html.py?line=862'>863</a>\u001b[0m     \u001b[39mif\u001b[39;00m \u001b[39mnot\u001b[39;00m _HAS_HTML5LIB:\n\u001b[1;32m--> <a href='file:///c%3A/Users/rkd-win-pc/ANACONDA/envs/da03_venv/lib/site-packages/pandas/io/html.py?line=863'>864</a>\u001b[0m         \u001b[39mraise\u001b[39;00m \u001b[39mImportError\u001b[39;00m(\u001b[39m\"\u001b[39m\u001b[39mhtml5lib not found, please install it\u001b[39m\u001b[39m\"\u001b[39m)\n\u001b[0;32m    <a href='file:///c%3A/Users/rkd-win-pc/ANACONDA/envs/da03_venv/lib/site-packages/pandas/io/html.py?line=864'>865</a>\u001b[0m     \u001b[39mif\u001b[39;00m \u001b[39mnot\u001b[39;00m _HAS_BS4:\n\u001b[0;32m    <a href='file:///c%3A/Users/rkd-win-pc/ANACONDA/envs/da03_venv/lib/site-packages/pandas/io/html.py?line=865'>866</a>\u001b[0m         \u001b[39mraise\u001b[39;00m \u001b[39mImportError\u001b[39;00m(\u001b[39m\"\u001b[39m\u001b[39mBeautifulSoup4 (bs4) not found, please install it\u001b[39m\u001b[39m\"\u001b[39m)\n",
      "\u001b[1;31mImportError\u001b[0m: html5lib not found, please install it"
     ]
    }
   ],
   "source": [
    "dataframe_list = pd.read_html(url, flavor='bs4')\n",
    "len(dataframe_list)"
   ]
  },
  {
   "cell_type": "code",
   "execution_count": 31,
   "metadata": {},
   "outputs": [
    {
     "ename": "ImportError",
     "evalue": "html5lib not found, please install it",
     "output_type": "error",
     "traceback": [
      "\u001b[1;31m---------------------------------------------------------------------------\u001b[0m",
      "\u001b[1;31mImportError\u001b[0m                               Traceback (most recent call last)",
      "\u001b[1;32mf:\\API-Universe\\scraping\\2.wikipedia_scraping.ipynb Cell 19'\u001b[0m in \u001b[0;36m<cell line: 1>\u001b[1;34m()\u001b[0m\n\u001b[1;32m----> <a href='vscode-notebook-cell:/f%3A/API-Universe/scraping/2.wikipedia_scraping.ipynb#ch0000018?line=0'>1</a>\u001b[0m pd\u001b[39m.\u001b[39;49mread_html(url, match\u001b[39m=\u001b[39;49m\u001b[39m\"\u001b[39;49m\u001b[39m10 most densely populated countries\u001b[39;49m\u001b[39m\"\u001b[39;49m, flavor\u001b[39m=\u001b[39;49m\u001b[39m'\u001b[39;49m\u001b[39mbs4\u001b[39;49m\u001b[39m'\u001b[39;49m)[\u001b[39m0\u001b[39m]\n",
      "File \u001b[1;32m~\\ANACONDA\\envs\\da03_venv\\lib\\site-packages\\pandas\\util\\_decorators.py:311\u001b[0m, in \u001b[0;36mdeprecate_nonkeyword_arguments.<locals>.decorate.<locals>.wrapper\u001b[1;34m(*args, **kwargs)\u001b[0m\n\u001b[0;32m    <a href='file:///c%3A/Users/rkd-win-pc/ANACONDA/envs/da03_venv/lib/site-packages/pandas/util/_decorators.py?line=304'>305</a>\u001b[0m \u001b[39mif\u001b[39;00m \u001b[39mlen\u001b[39m(args) \u001b[39m>\u001b[39m num_allow_args:\n\u001b[0;32m    <a href='file:///c%3A/Users/rkd-win-pc/ANACONDA/envs/da03_venv/lib/site-packages/pandas/util/_decorators.py?line=305'>306</a>\u001b[0m     warnings\u001b[39m.\u001b[39mwarn(\n\u001b[0;32m    <a href='file:///c%3A/Users/rkd-win-pc/ANACONDA/envs/da03_venv/lib/site-packages/pandas/util/_decorators.py?line=306'>307</a>\u001b[0m         msg\u001b[39m.\u001b[39mformat(arguments\u001b[39m=\u001b[39marguments),\n\u001b[0;32m    <a href='file:///c%3A/Users/rkd-win-pc/ANACONDA/envs/da03_venv/lib/site-packages/pandas/util/_decorators.py?line=307'>308</a>\u001b[0m         \u001b[39mFutureWarning\u001b[39;00m,\n\u001b[0;32m    <a href='file:///c%3A/Users/rkd-win-pc/ANACONDA/envs/da03_venv/lib/site-packages/pandas/util/_decorators.py?line=308'>309</a>\u001b[0m         stacklevel\u001b[39m=\u001b[39mstacklevel,\n\u001b[0;32m    <a href='file:///c%3A/Users/rkd-win-pc/ANACONDA/envs/da03_venv/lib/site-packages/pandas/util/_decorators.py?line=309'>310</a>\u001b[0m     )\n\u001b[1;32m--> <a href='file:///c%3A/Users/rkd-win-pc/ANACONDA/envs/da03_venv/lib/site-packages/pandas/util/_decorators.py?line=310'>311</a>\u001b[0m \u001b[39mreturn\u001b[39;00m func(\u001b[39m*\u001b[39;49margs, \u001b[39m*\u001b[39;49m\u001b[39m*\u001b[39;49mkwargs)\n",
      "File \u001b[1;32m~\\ANACONDA\\envs\\da03_venv\\lib\\site-packages\\pandas\\io\\html.py:1113\u001b[0m, in \u001b[0;36mread_html\u001b[1;34m(io, match, flavor, header, index_col, skiprows, attrs, parse_dates, thousands, encoding, decimal, converters, na_values, keep_default_na, displayed_only)\u001b[0m\n\u001b[0;32m   <a href='file:///c%3A/Users/rkd-win-pc/ANACONDA/envs/da03_venv/lib/site-packages/pandas/io/html.py?line=1108'>1109</a>\u001b[0m validate_header_arg(header)\n\u001b[0;32m   <a href='file:///c%3A/Users/rkd-win-pc/ANACONDA/envs/da03_venv/lib/site-packages/pandas/io/html.py?line=1110'>1111</a>\u001b[0m io \u001b[39m=\u001b[39m stringify_path(io)\n\u001b[1;32m-> <a href='file:///c%3A/Users/rkd-win-pc/ANACONDA/envs/da03_venv/lib/site-packages/pandas/io/html.py?line=1112'>1113</a>\u001b[0m \u001b[39mreturn\u001b[39;00m _parse(\n\u001b[0;32m   <a href='file:///c%3A/Users/rkd-win-pc/ANACONDA/envs/da03_venv/lib/site-packages/pandas/io/html.py?line=1113'>1114</a>\u001b[0m     flavor\u001b[39m=\u001b[39;49mflavor,\n\u001b[0;32m   <a href='file:///c%3A/Users/rkd-win-pc/ANACONDA/envs/da03_venv/lib/site-packages/pandas/io/html.py?line=1114'>1115</a>\u001b[0m     io\u001b[39m=\u001b[39;49mio,\n\u001b[0;32m   <a href='file:///c%3A/Users/rkd-win-pc/ANACONDA/envs/da03_venv/lib/site-packages/pandas/io/html.py?line=1115'>1116</a>\u001b[0m     match\u001b[39m=\u001b[39;49mmatch,\n\u001b[0;32m   <a href='file:///c%3A/Users/rkd-win-pc/ANACONDA/envs/da03_venv/lib/site-packages/pandas/io/html.py?line=1116'>1117</a>\u001b[0m     header\u001b[39m=\u001b[39;49mheader,\n\u001b[0;32m   <a href='file:///c%3A/Users/rkd-win-pc/ANACONDA/envs/da03_venv/lib/site-packages/pandas/io/html.py?line=1117'>1118</a>\u001b[0m     index_col\u001b[39m=\u001b[39;49mindex_col,\n\u001b[0;32m   <a href='file:///c%3A/Users/rkd-win-pc/ANACONDA/envs/da03_venv/lib/site-packages/pandas/io/html.py?line=1118'>1119</a>\u001b[0m     skiprows\u001b[39m=\u001b[39;49mskiprows,\n\u001b[0;32m   <a href='file:///c%3A/Users/rkd-win-pc/ANACONDA/envs/da03_venv/lib/site-packages/pandas/io/html.py?line=1119'>1120</a>\u001b[0m     parse_dates\u001b[39m=\u001b[39;49mparse_dates,\n\u001b[0;32m   <a href='file:///c%3A/Users/rkd-win-pc/ANACONDA/envs/da03_venv/lib/site-packages/pandas/io/html.py?line=1120'>1121</a>\u001b[0m     thousands\u001b[39m=\u001b[39;49mthousands,\n\u001b[0;32m   <a href='file:///c%3A/Users/rkd-win-pc/ANACONDA/envs/da03_venv/lib/site-packages/pandas/io/html.py?line=1121'>1122</a>\u001b[0m     attrs\u001b[39m=\u001b[39;49mattrs,\n\u001b[0;32m   <a href='file:///c%3A/Users/rkd-win-pc/ANACONDA/envs/da03_venv/lib/site-packages/pandas/io/html.py?line=1122'>1123</a>\u001b[0m     encoding\u001b[39m=\u001b[39;49mencoding,\n\u001b[0;32m   <a href='file:///c%3A/Users/rkd-win-pc/ANACONDA/envs/da03_venv/lib/site-packages/pandas/io/html.py?line=1123'>1124</a>\u001b[0m     decimal\u001b[39m=\u001b[39;49mdecimal,\n\u001b[0;32m   <a href='file:///c%3A/Users/rkd-win-pc/ANACONDA/envs/da03_venv/lib/site-packages/pandas/io/html.py?line=1124'>1125</a>\u001b[0m     converters\u001b[39m=\u001b[39;49mconverters,\n\u001b[0;32m   <a href='file:///c%3A/Users/rkd-win-pc/ANACONDA/envs/da03_venv/lib/site-packages/pandas/io/html.py?line=1125'>1126</a>\u001b[0m     na_values\u001b[39m=\u001b[39;49mna_values,\n\u001b[0;32m   <a href='file:///c%3A/Users/rkd-win-pc/ANACONDA/envs/da03_venv/lib/site-packages/pandas/io/html.py?line=1126'>1127</a>\u001b[0m     keep_default_na\u001b[39m=\u001b[39;49mkeep_default_na,\n\u001b[0;32m   <a href='file:///c%3A/Users/rkd-win-pc/ANACONDA/envs/da03_venv/lib/site-packages/pandas/io/html.py?line=1127'>1128</a>\u001b[0m     displayed_only\u001b[39m=\u001b[39;49mdisplayed_only,\n\u001b[0;32m   <a href='file:///c%3A/Users/rkd-win-pc/ANACONDA/envs/da03_venv/lib/site-packages/pandas/io/html.py?line=1128'>1129</a>\u001b[0m )\n",
      "File \u001b[1;32m~\\ANACONDA\\envs\\da03_venv\\lib\\site-packages\\pandas\\io\\html.py:915\u001b[0m, in \u001b[0;36m_parse\u001b[1;34m(flavor, io, match, attrs, encoding, displayed_only, **kwargs)\u001b[0m\n\u001b[0;32m    <a href='file:///c%3A/Users/rkd-win-pc/ANACONDA/envs/da03_venv/lib/site-packages/pandas/io/html.py?line=912'>913</a>\u001b[0m retained \u001b[39m=\u001b[39m \u001b[39mNone\u001b[39;00m\n\u001b[0;32m    <a href='file:///c%3A/Users/rkd-win-pc/ANACONDA/envs/da03_venv/lib/site-packages/pandas/io/html.py?line=913'>914</a>\u001b[0m \u001b[39mfor\u001b[39;00m flav \u001b[39min\u001b[39;00m flavor:\n\u001b[1;32m--> <a href='file:///c%3A/Users/rkd-win-pc/ANACONDA/envs/da03_venv/lib/site-packages/pandas/io/html.py?line=914'>915</a>\u001b[0m     parser \u001b[39m=\u001b[39m _parser_dispatch(flav)\n\u001b[0;32m    <a href='file:///c%3A/Users/rkd-win-pc/ANACONDA/envs/da03_venv/lib/site-packages/pandas/io/html.py?line=915'>916</a>\u001b[0m     p \u001b[39m=\u001b[39m parser(io, compiled_match, attrs, encoding, displayed_only)\n\u001b[0;32m    <a href='file:///c%3A/Users/rkd-win-pc/ANACONDA/envs/da03_venv/lib/site-packages/pandas/io/html.py?line=917'>918</a>\u001b[0m     \u001b[39mtry\u001b[39;00m:\n",
      "File \u001b[1;32m~\\ANACONDA\\envs\\da03_venv\\lib\\site-packages\\pandas\\io\\html.py:864\u001b[0m, in \u001b[0;36m_parser_dispatch\u001b[1;34m(flavor)\u001b[0m\n\u001b[0;32m    <a href='file:///c%3A/Users/rkd-win-pc/ANACONDA/envs/da03_venv/lib/site-packages/pandas/io/html.py?line=861'>862</a>\u001b[0m \u001b[39mif\u001b[39;00m flavor \u001b[39min\u001b[39;00m (\u001b[39m\"\u001b[39m\u001b[39mbs4\u001b[39m\u001b[39m\"\u001b[39m, \u001b[39m\"\u001b[39m\u001b[39mhtml5lib\u001b[39m\u001b[39m\"\u001b[39m):\n\u001b[0;32m    <a href='file:///c%3A/Users/rkd-win-pc/ANACONDA/envs/da03_venv/lib/site-packages/pandas/io/html.py?line=862'>863</a>\u001b[0m     \u001b[39mif\u001b[39;00m \u001b[39mnot\u001b[39;00m _HAS_HTML5LIB:\n\u001b[1;32m--> <a href='file:///c%3A/Users/rkd-win-pc/ANACONDA/envs/da03_venv/lib/site-packages/pandas/io/html.py?line=863'>864</a>\u001b[0m         \u001b[39mraise\u001b[39;00m \u001b[39mImportError\u001b[39;00m(\u001b[39m\"\u001b[39m\u001b[39mhtml5lib not found, please install it\u001b[39m\u001b[39m\"\u001b[39m)\n\u001b[0;32m    <a href='file:///c%3A/Users/rkd-win-pc/ANACONDA/envs/da03_venv/lib/site-packages/pandas/io/html.py?line=864'>865</a>\u001b[0m     \u001b[39mif\u001b[39;00m \u001b[39mnot\u001b[39;00m _HAS_BS4:\n\u001b[0;32m    <a href='file:///c%3A/Users/rkd-win-pc/ANACONDA/envs/da03_venv/lib/site-packages/pandas/io/html.py?line=865'>866</a>\u001b[0m         \u001b[39mraise\u001b[39;00m \u001b[39mImportError\u001b[39;00m(\u001b[39m\"\u001b[39m\u001b[39mBeautifulSoup4 (bs4) not found, please install it\u001b[39m\u001b[39m\"\u001b[39m)\n",
      "\u001b[1;31mImportError\u001b[0m: html5lib not found, please install it"
     ]
    }
   ],
   "source": [
    "pd.read_html(url, match=\"10 most densely populated countries\", flavor='bs4')[0]\n",
    "# Maptitude and MapInfo\n",
    "# https://courses.cognitiveclass.ai/courses/course-v1:BigDataUniversity+DS0101EN+2016/courseware/bd64ccdf56ad4ea1afe870e26d583038/155e435d066a4a22a2c7a29"
   ]
  },
  {
   "cell_type": "code",
   "execution_count": 32,
   "metadata": {},
   "outputs": [
    {
     "ename": "ImportError",
     "evalue": "html5lib not found, please install it",
     "output_type": "error",
     "traceback": [
      "\u001b[1;31m---------------------------------------------------------------------------\u001b[0m",
      "\u001b[1;31mImportError\u001b[0m                               Traceback (most recent call last)",
      "\u001b[1;32mf:\\API-Universe\\scraping\\2.wikipedia_scraping.ipynb Cell 20'\u001b[0m in \u001b[0;36m<cell line: 1>\u001b[1;34m()\u001b[0m\n\u001b[1;32m----> <a href='vscode-notebook-cell:/f%3A/API-Universe/scraping/2.wikipedia_scraping.ipynb#ch0000019?line=0'>1</a>\u001b[0m df \u001b[39m=\u001b[39m pd\u001b[39m.\u001b[39;49mread_html(url, match\u001b[39m=\u001b[39;49m\u001b[39m\"\u001b[39;49m\u001b[39m10 most densely populated countries\u001b[39;49m\u001b[39m\"\u001b[39;49m, flavor\u001b[39m=\u001b[39;49m\u001b[39m'\u001b[39;49m\u001b[39mbs4\u001b[39;49m\u001b[39m'\u001b[39;49m)[\u001b[39m0\u001b[39m]\n\u001b[0;32m      <a href='vscode-notebook-cell:/f%3A/API-Universe/scraping/2.wikipedia_scraping.ipynb#ch0000019?line=1'>2</a>\u001b[0m df\u001b[39m.\u001b[39mto_csv(\u001b[39m'\u001b[39m\u001b[39mdf_scraped.csv\u001b[39m\u001b[39m'\u001b[39m)\n",
      "File \u001b[1;32m~\\ANACONDA\\envs\\da03_venv\\lib\\site-packages\\pandas\\util\\_decorators.py:311\u001b[0m, in \u001b[0;36mdeprecate_nonkeyword_arguments.<locals>.decorate.<locals>.wrapper\u001b[1;34m(*args, **kwargs)\u001b[0m\n\u001b[0;32m    <a href='file:///c%3A/Users/rkd-win-pc/ANACONDA/envs/da03_venv/lib/site-packages/pandas/util/_decorators.py?line=304'>305</a>\u001b[0m \u001b[39mif\u001b[39;00m \u001b[39mlen\u001b[39m(args) \u001b[39m>\u001b[39m num_allow_args:\n\u001b[0;32m    <a href='file:///c%3A/Users/rkd-win-pc/ANACONDA/envs/da03_venv/lib/site-packages/pandas/util/_decorators.py?line=305'>306</a>\u001b[0m     warnings\u001b[39m.\u001b[39mwarn(\n\u001b[0;32m    <a href='file:///c%3A/Users/rkd-win-pc/ANACONDA/envs/da03_venv/lib/site-packages/pandas/util/_decorators.py?line=306'>307</a>\u001b[0m         msg\u001b[39m.\u001b[39mformat(arguments\u001b[39m=\u001b[39marguments),\n\u001b[0;32m    <a href='file:///c%3A/Users/rkd-win-pc/ANACONDA/envs/da03_venv/lib/site-packages/pandas/util/_decorators.py?line=307'>308</a>\u001b[0m         \u001b[39mFutureWarning\u001b[39;00m,\n\u001b[0;32m    <a href='file:///c%3A/Users/rkd-win-pc/ANACONDA/envs/da03_venv/lib/site-packages/pandas/util/_decorators.py?line=308'>309</a>\u001b[0m         stacklevel\u001b[39m=\u001b[39mstacklevel,\n\u001b[0;32m    <a href='file:///c%3A/Users/rkd-win-pc/ANACONDA/envs/da03_venv/lib/site-packages/pandas/util/_decorators.py?line=309'>310</a>\u001b[0m     )\n\u001b[1;32m--> <a href='file:///c%3A/Users/rkd-win-pc/ANACONDA/envs/da03_venv/lib/site-packages/pandas/util/_decorators.py?line=310'>311</a>\u001b[0m \u001b[39mreturn\u001b[39;00m func(\u001b[39m*\u001b[39;49margs, \u001b[39m*\u001b[39;49m\u001b[39m*\u001b[39;49mkwargs)\n",
      "File \u001b[1;32m~\\ANACONDA\\envs\\da03_venv\\lib\\site-packages\\pandas\\io\\html.py:1113\u001b[0m, in \u001b[0;36mread_html\u001b[1;34m(io, match, flavor, header, index_col, skiprows, attrs, parse_dates, thousands, encoding, decimal, converters, na_values, keep_default_na, displayed_only)\u001b[0m\n\u001b[0;32m   <a href='file:///c%3A/Users/rkd-win-pc/ANACONDA/envs/da03_venv/lib/site-packages/pandas/io/html.py?line=1108'>1109</a>\u001b[0m validate_header_arg(header)\n\u001b[0;32m   <a href='file:///c%3A/Users/rkd-win-pc/ANACONDA/envs/da03_venv/lib/site-packages/pandas/io/html.py?line=1110'>1111</a>\u001b[0m io \u001b[39m=\u001b[39m stringify_path(io)\n\u001b[1;32m-> <a href='file:///c%3A/Users/rkd-win-pc/ANACONDA/envs/da03_venv/lib/site-packages/pandas/io/html.py?line=1112'>1113</a>\u001b[0m \u001b[39mreturn\u001b[39;00m _parse(\n\u001b[0;32m   <a href='file:///c%3A/Users/rkd-win-pc/ANACONDA/envs/da03_venv/lib/site-packages/pandas/io/html.py?line=1113'>1114</a>\u001b[0m     flavor\u001b[39m=\u001b[39;49mflavor,\n\u001b[0;32m   <a href='file:///c%3A/Users/rkd-win-pc/ANACONDA/envs/da03_venv/lib/site-packages/pandas/io/html.py?line=1114'>1115</a>\u001b[0m     io\u001b[39m=\u001b[39;49mio,\n\u001b[0;32m   <a href='file:///c%3A/Users/rkd-win-pc/ANACONDA/envs/da03_venv/lib/site-packages/pandas/io/html.py?line=1115'>1116</a>\u001b[0m     match\u001b[39m=\u001b[39;49mmatch,\n\u001b[0;32m   <a href='file:///c%3A/Users/rkd-win-pc/ANACONDA/envs/da03_venv/lib/site-packages/pandas/io/html.py?line=1116'>1117</a>\u001b[0m     header\u001b[39m=\u001b[39;49mheader,\n\u001b[0;32m   <a href='file:///c%3A/Users/rkd-win-pc/ANACONDA/envs/da03_venv/lib/site-packages/pandas/io/html.py?line=1117'>1118</a>\u001b[0m     index_col\u001b[39m=\u001b[39;49mindex_col,\n\u001b[0;32m   <a href='file:///c%3A/Users/rkd-win-pc/ANACONDA/envs/da03_venv/lib/site-packages/pandas/io/html.py?line=1118'>1119</a>\u001b[0m     skiprows\u001b[39m=\u001b[39;49mskiprows,\n\u001b[0;32m   <a href='file:///c%3A/Users/rkd-win-pc/ANACONDA/envs/da03_venv/lib/site-packages/pandas/io/html.py?line=1119'>1120</a>\u001b[0m     parse_dates\u001b[39m=\u001b[39;49mparse_dates,\n\u001b[0;32m   <a href='file:///c%3A/Users/rkd-win-pc/ANACONDA/envs/da03_venv/lib/site-packages/pandas/io/html.py?line=1120'>1121</a>\u001b[0m     thousands\u001b[39m=\u001b[39;49mthousands,\n\u001b[0;32m   <a href='file:///c%3A/Users/rkd-win-pc/ANACONDA/envs/da03_venv/lib/site-packages/pandas/io/html.py?line=1121'>1122</a>\u001b[0m     attrs\u001b[39m=\u001b[39;49mattrs,\n\u001b[0;32m   <a href='file:///c%3A/Users/rkd-win-pc/ANACONDA/envs/da03_venv/lib/site-packages/pandas/io/html.py?line=1122'>1123</a>\u001b[0m     encoding\u001b[39m=\u001b[39;49mencoding,\n\u001b[0;32m   <a href='file:///c%3A/Users/rkd-win-pc/ANACONDA/envs/da03_venv/lib/site-packages/pandas/io/html.py?line=1123'>1124</a>\u001b[0m     decimal\u001b[39m=\u001b[39;49mdecimal,\n\u001b[0;32m   <a href='file:///c%3A/Users/rkd-win-pc/ANACONDA/envs/da03_venv/lib/site-packages/pandas/io/html.py?line=1124'>1125</a>\u001b[0m     converters\u001b[39m=\u001b[39;49mconverters,\n\u001b[0;32m   <a href='file:///c%3A/Users/rkd-win-pc/ANACONDA/envs/da03_venv/lib/site-packages/pandas/io/html.py?line=1125'>1126</a>\u001b[0m     na_values\u001b[39m=\u001b[39;49mna_values,\n\u001b[0;32m   <a href='file:///c%3A/Users/rkd-win-pc/ANACONDA/envs/da03_venv/lib/site-packages/pandas/io/html.py?line=1126'>1127</a>\u001b[0m     keep_default_na\u001b[39m=\u001b[39;49mkeep_default_na,\n\u001b[0;32m   <a href='file:///c%3A/Users/rkd-win-pc/ANACONDA/envs/da03_venv/lib/site-packages/pandas/io/html.py?line=1127'>1128</a>\u001b[0m     displayed_only\u001b[39m=\u001b[39;49mdisplayed_only,\n\u001b[0;32m   <a href='file:///c%3A/Users/rkd-win-pc/ANACONDA/envs/da03_venv/lib/site-packages/pandas/io/html.py?line=1128'>1129</a>\u001b[0m )\n",
      "File \u001b[1;32m~\\ANACONDA\\envs\\da03_venv\\lib\\site-packages\\pandas\\io\\html.py:915\u001b[0m, in \u001b[0;36m_parse\u001b[1;34m(flavor, io, match, attrs, encoding, displayed_only, **kwargs)\u001b[0m\n\u001b[0;32m    <a href='file:///c%3A/Users/rkd-win-pc/ANACONDA/envs/da03_venv/lib/site-packages/pandas/io/html.py?line=912'>913</a>\u001b[0m retained \u001b[39m=\u001b[39m \u001b[39mNone\u001b[39;00m\n\u001b[0;32m    <a href='file:///c%3A/Users/rkd-win-pc/ANACONDA/envs/da03_venv/lib/site-packages/pandas/io/html.py?line=913'>914</a>\u001b[0m \u001b[39mfor\u001b[39;00m flav \u001b[39min\u001b[39;00m flavor:\n\u001b[1;32m--> <a href='file:///c%3A/Users/rkd-win-pc/ANACONDA/envs/da03_venv/lib/site-packages/pandas/io/html.py?line=914'>915</a>\u001b[0m     parser \u001b[39m=\u001b[39m _parser_dispatch(flav)\n\u001b[0;32m    <a href='file:///c%3A/Users/rkd-win-pc/ANACONDA/envs/da03_venv/lib/site-packages/pandas/io/html.py?line=915'>916</a>\u001b[0m     p \u001b[39m=\u001b[39m parser(io, compiled_match, attrs, encoding, displayed_only)\n\u001b[0;32m    <a href='file:///c%3A/Users/rkd-win-pc/ANACONDA/envs/da03_venv/lib/site-packages/pandas/io/html.py?line=917'>918</a>\u001b[0m     \u001b[39mtry\u001b[39;00m:\n",
      "File \u001b[1;32m~\\ANACONDA\\envs\\da03_venv\\lib\\site-packages\\pandas\\io\\html.py:864\u001b[0m, in \u001b[0;36m_parser_dispatch\u001b[1;34m(flavor)\u001b[0m\n\u001b[0;32m    <a href='file:///c%3A/Users/rkd-win-pc/ANACONDA/envs/da03_venv/lib/site-packages/pandas/io/html.py?line=861'>862</a>\u001b[0m \u001b[39mif\u001b[39;00m flavor \u001b[39min\u001b[39;00m (\u001b[39m\"\u001b[39m\u001b[39mbs4\u001b[39m\u001b[39m\"\u001b[39m, \u001b[39m\"\u001b[39m\u001b[39mhtml5lib\u001b[39m\u001b[39m\"\u001b[39m):\n\u001b[0;32m    <a href='file:///c%3A/Users/rkd-win-pc/ANACONDA/envs/da03_venv/lib/site-packages/pandas/io/html.py?line=862'>863</a>\u001b[0m     \u001b[39mif\u001b[39;00m \u001b[39mnot\u001b[39;00m _HAS_HTML5LIB:\n\u001b[1;32m--> <a href='file:///c%3A/Users/rkd-win-pc/ANACONDA/envs/da03_venv/lib/site-packages/pandas/io/html.py?line=863'>864</a>\u001b[0m         \u001b[39mraise\u001b[39;00m \u001b[39mImportError\u001b[39;00m(\u001b[39m\"\u001b[39m\u001b[39mhtml5lib not found, please install it\u001b[39m\u001b[39m\"\u001b[39m)\n\u001b[0;32m    <a href='file:///c%3A/Users/rkd-win-pc/ANACONDA/envs/da03_venv/lib/site-packages/pandas/io/html.py?line=864'>865</a>\u001b[0m     \u001b[39mif\u001b[39;00m \u001b[39mnot\u001b[39;00m _HAS_BS4:\n\u001b[0;32m    <a href='file:///c%3A/Users/rkd-win-pc/ANACONDA/envs/da03_venv/lib/site-packages/pandas/io/html.py?line=865'>866</a>\u001b[0m         \u001b[39mraise\u001b[39;00m \u001b[39mImportError\u001b[39;00m(\u001b[39m\"\u001b[39m\u001b[39mBeautifulSoup4 (bs4) not found, please install it\u001b[39m\u001b[39m\"\u001b[39m)\n",
      "\u001b[1;31mImportError\u001b[0m: html5lib not found, please install it"
     ]
    }
   ],
   "source": [
    "df = pd.read_html(url, match=\"10 most densely populated countries\", flavor='bs4')[0]\n",
    "df.to_csv('df_scraped.csv')"
   ]
  },
  {
   "cell_type": "markdown",
   "metadata": {},
   "source": []
  },
  {
   "cell_type": "code",
   "execution_count": null,
   "metadata": {},
   "outputs": [],
   "source": []
  }
 ],
 "metadata": {
  "interpreter": {
   "hash": "77fa04183f7360a859fca835f0102316890766ea07c37869f34734eee9ecc415"
  },
  "kernelspec": {
   "display_name": "da03_kernel",
   "language": "python",
   "name": "da03_venv"
  },
  "language_info": {
   "codemirror_mode": {
    "name": "ipython",
    "version": 3
   },
   "file_extension": ".py",
   "mimetype": "text/x-python",
   "name": "python",
   "nbconvert_exporter": "python",
   "pygments_lexer": "ipython3",
   "version": "3.8.13"
  },
  "orig_nbformat": 4
 },
 "nbformat": 4,
 "nbformat_minor": 2
}
