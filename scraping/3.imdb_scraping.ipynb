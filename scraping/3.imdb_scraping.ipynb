{
 "cells": [
  {
   "cell_type": "markdown",
   "metadata": {},
   "source": [
    "# Foursquare API"
   ]
  },
  {
   "cell_type": "markdown",
   "metadata": {},
   "source": [
    "## Import Libraries"
   ]
  },
  {
   "cell_type": "code",
   "execution_count": 1,
   "metadata": {},
   "outputs": [],
   "source": [
    "import requests\n",
    "import numpy as np\n",
    "import pandas as pd\n",
    "import json\n",
    "import webbrowser\n",
    "from bs4 import BeautifulSoup\n",
    "import random\n",
    "from utils import *"
   ]
  },
  {
   "cell_type": "markdown",
   "metadata": {},
   "source": [
    "## End Point"
   ]
  },
  {
   "cell_type": "code",
   "execution_count": 2,
   "metadata": {},
   "outputs": [],
   "source": [
    "url = 'http://www.imdb.com/chart/top'"
   ]
  },
  {
   "cell_type": "markdown",
   "metadata": {},
   "source": [
    "## Credential"
   ]
  },
  {
   "cell_type": "markdown",
   "metadata": {},
   "source": [
    "> No Credential"
   ]
  },
  {
   "cell_type": "markdown",
   "metadata": {},
   "source": [
    "## Request"
   ]
  },
  {
   "cell_type": "code",
   "execution_count": 3,
   "metadata": {},
   "outputs": [
    {
     "name": "stdout",
     "output_type": "stream",
     "text": [
      "Request Response : 200 OK (Everything works as expected)\n"
     ]
    }
   ],
   "source": [
    "response = requests.request(\"GET\", url)\n",
    "req_response(response)"
   ]
  },
  {
   "cell_type": "markdown",
   "metadata": {},
   "source": [
    "## Get Data"
   ]
  },
  {
   "cell_type": "code",
   "execution_count": 4,
   "metadata": {},
   "outputs": [],
   "source": [
    "data = BeautifulSoup(response.text, 'html.parser')\n",
    "#soup = BeautifulSoup(response.text, 'lxml') # faster\n",
    "#print(soup.prettify())"
   ]
  },
  {
   "cell_type": "markdown",
   "metadata": {},
   "source": [
    "## Format Data"
   ]
  },
  {
   "cell_type": "code",
   "execution_count": 5,
   "metadata": {},
   "outputs": [],
   "source": [
    "movietags = data.select('td.titleColumn')\n",
    "inner_movietags = data.select('td.titleColumn a')\n",
    "ratingtags = data.select('td.posterColumn span[name=ir]')"
   ]
  },
  {
   "cell_type": "code",
   "execution_count": 6,
   "metadata": {},
   "outputs": [],
   "source": [
    "def get_year(movie_tag):\n",
    "        moviesplit = movie_tag.text.split()\n",
    "        year = moviesplit[-1] # last item \n",
    "        return year"
   ]
  },
  {
   "cell_type": "code",
   "execution_count": 7,
   "metadata": {},
   "outputs": [],
   "source": [
    "years = [get_year(tag) for tag in movietags]\n",
    "actors_list =[tag['title'] for tag in inner_movietags] # access attribute 'title'\n",
    "titles = [tag.text for tag in inner_movietags]\n",
    "ratings = [float(tag['data-value']) for tag in ratingtags] # access attribute 'data-value'"
   ]
  },
  {
   "cell_type": "code",
   "execution_count": 8,
   "metadata": {},
   "outputs": [
    {
     "data": {
      "text/html": [
       "<div>\n",
       "<style scoped>\n",
       "    .dataframe tbody tr th:only-of-type {\n",
       "        vertical-align: middle;\n",
       "    }\n",
       "\n",
       "    .dataframe tbody tr th {\n",
       "        vertical-align: top;\n",
       "    }\n",
       "\n",
       "    .dataframe thead th {\n",
       "        text-align: right;\n",
       "    }\n",
       "</style>\n",
       "<table border=\"1\" class=\"dataframe\">\n",
       "  <thead>\n",
       "    <tr style=\"text-align: right;\">\n",
       "      <th></th>\n",
       "      <th>Title</th>\n",
       "      <th>Realease Year</th>\n",
       "      <th>Actors</th>\n",
       "      <th>Ratings</th>\n",
       "    </tr>\n",
       "  </thead>\n",
       "  <tbody>\n",
       "    <tr>\n",
       "      <th>0</th>\n",
       "      <td>The Shawshank Redemption</td>\n",
       "      <td>(1994)</td>\n",
       "      <td>Frank Darabont (dir.), Tim Robbins, Morgan Fre...</td>\n",
       "      <td>9.233448</td>\n",
       "    </tr>\n",
       "    <tr>\n",
       "      <th>1</th>\n",
       "      <td>The Godfather</td>\n",
       "      <td>(1994)</td>\n",
       "      <td>Francis Ford Coppola (dir.), Marlon Brando, Al...</td>\n",
       "      <td>9.155414</td>\n",
       "    </tr>\n",
       "    <tr>\n",
       "      <th>2</th>\n",
       "      <td>The Dark Knight</td>\n",
       "      <td>(1994)</td>\n",
       "      <td>Christopher Nolan (dir.), Christian Bale, Heat...</td>\n",
       "      <td>8.984255</td>\n",
       "    </tr>\n",
       "    <tr>\n",
       "      <th>3</th>\n",
       "      <td>The Godfather: Part II</td>\n",
       "      <td>(1994)</td>\n",
       "      <td>Francis Ford Coppola (dir.), Al Pacino, Robert...</td>\n",
       "      <td>8.983711</td>\n",
       "    </tr>\n",
       "    <tr>\n",
       "      <th>4</th>\n",
       "      <td>12 Angry Men</td>\n",
       "      <td>(1994)</td>\n",
       "      <td>Sidney Lumet (dir.), Henry Fonda, Lee J. Cobb</td>\n",
       "      <td>8.946397</td>\n",
       "    </tr>\n",
       "    <tr>\n",
       "      <th>...</th>\n",
       "      <td>...</td>\n",
       "      <td>...</td>\n",
       "      <td>...</td>\n",
       "      <td>...</td>\n",
       "    </tr>\n",
       "    <tr>\n",
       "      <th>245</th>\n",
       "      <td>The Batman</td>\n",
       "      <td>(1994)</td>\n",
       "      <td>Matt Reeves (dir.), Robert Pattinson, Zoë Kravitz</td>\n",
       "      <td>8.005871</td>\n",
       "    </tr>\n",
       "    <tr>\n",
       "      <th>246</th>\n",
       "      <td>The Help</td>\n",
       "      <td>(1994)</td>\n",
       "      <td>Tate Taylor (dir.), Emma Stone, Viola Davis</td>\n",
       "      <td>8.004953</td>\n",
       "    </tr>\n",
       "    <tr>\n",
       "      <th>247</th>\n",
       "      <td>Beauty and the Beast</td>\n",
       "      <td>(1994)</td>\n",
       "      <td>Gary Trousdale (dir.), Paige O'Hara, Robby Benson</td>\n",
       "      <td>8.004444</td>\n",
       "    </tr>\n",
       "    <tr>\n",
       "      <th>248</th>\n",
       "      <td>Du rififi chez les hommes</td>\n",
       "      <td>(1994)</td>\n",
       "      <td>Jules Dassin (dir.), Jean Servais, Carl Möhner</td>\n",
       "      <td>8.002240</td>\n",
       "    </tr>\n",
       "    <tr>\n",
       "      <th>249</th>\n",
       "      <td>Dances with Wolves</td>\n",
       "      <td>(1994)</td>\n",
       "      <td>Kevin Costner (dir.), Kevin Costner, Mary McDo...</td>\n",
       "      <td>8.001577</td>\n",
       "    </tr>\n",
       "  </tbody>\n",
       "</table>\n",
       "<p>250 rows × 4 columns</p>\n",
       "</div>"
      ],
      "text/plain": [
       "                         Title Realease Year  \\\n",
       "0     The Shawshank Redemption        (1994)   \n",
       "1                The Godfather        (1994)   \n",
       "2              The Dark Knight        (1994)   \n",
       "3       The Godfather: Part II        (1994)   \n",
       "4                 12 Angry Men        (1994)   \n",
       "..                         ...           ...   \n",
       "245                 The Batman        (1994)   \n",
       "246                   The Help        (1994)   \n",
       "247       Beauty and the Beast        (1994)   \n",
       "248  Du rififi chez les hommes        (1994)   \n",
       "249         Dances with Wolves        (1994)   \n",
       "\n",
       "                                                Actors   Ratings  \n",
       "0    Frank Darabont (dir.), Tim Robbins, Morgan Fre...  9.233448  \n",
       "1    Francis Ford Coppola (dir.), Marlon Brando, Al...  9.155414  \n",
       "2    Christopher Nolan (dir.), Christian Bale, Heat...  8.984255  \n",
       "3    Francis Ford Coppola (dir.), Al Pacino, Robert...  8.983711  \n",
       "4        Sidney Lumet (dir.), Henry Fonda, Lee J. Cobb  8.946397  \n",
       "..                                                 ...       ...  \n",
       "245  Matt Reeves (dir.), Robert Pattinson, Zoë Kravitz  8.005871  \n",
       "246        Tate Taylor (dir.), Emma Stone, Viola Davis  8.004953  \n",
       "247  Gary Trousdale (dir.), Paige O'Hara, Robby Benson  8.004444  \n",
       "248     Jules Dassin (dir.), Jean Servais, Carl Möhner  8.002240  \n",
       "249  Kevin Costner (dir.), Kevin Costner, Mary McDo...  8.001577  \n",
       "\n",
       "[250 rows x 4 columns]"
      ]
     },
     "execution_count": 8,
     "metadata": {},
     "output_type": "execute_result"
    }
   ],
   "source": [
    "pd.DataFrame({\"Title\":titles, \"Realease Year\":years[0], \"Actors\":actors_list, \"Ratings\":ratings})"
   ]
  },
  {
   "cell_type": "markdown",
   "metadata": {},
   "source": [
    "___"
   ]
  },
  {
   "cell_type": "code",
   "execution_count": 9,
   "metadata": {},
   "outputs": [
    {
     "name": "stdout",
     "output_type": "stream",
     "text": [
      "----------------------------------------\n",
      "Title : Mr. Smith Goes to Washington\n",
      "Release Year :(1939)\n",
      "Rating: 8.1\n",
      "Starring: Frank Capra (dir.), James Stewart, Jean Arthur\n",
      "----------------------------------------\n"
     ]
    }
   ],
   "source": [
    "n_movies = len(titles)\n",
    "\n",
    "while(True):\n",
    "    idx = random.randrange(0, n_movies)\n",
    "    \n",
    "    print('----'*10)\n",
    "    print(f\"Title : {titles[idx]}\\nRelease Year :{years[idx]}\\nRating: {ratings[idx]:.1f}\\nStarring: {actors_list[idx]}\")\n",
    "    print('----'*10)\n",
    "\n",
    "    user_input = input('Do you want another movie (y/[n])?\\n\\n ')\n",
    "    if user_input != 'y':\n",
    "        break"
   ]
  },
  {
   "cell_type": "markdown",
   "metadata": {},
   "source": []
  },
  {
   "cell_type": "markdown",
   "metadata": {},
   "source": [
    "___\n",
    "My name is **Kiese Diangebeni Reagan** I'm **Data Science Analyst**, technology passionate person, Artificial Intelligence enthusiast and lifelong learner. \n",
    "\n",
    "   \n",
    "|**Let get in touch :**| <a href=\"https://kiese.tech\">www.kiese.tech</a>|<a href=\"https://github.com/Rekidiang2\">GitHub</a>| <a href=\"https://www.linkedin.com/in/kiese-diangebeni-reagan-82992216a/\">Linkedin</a>|<a href=\"https://twitter.com/ReaganKiese\">Twitter</a>|<a href=\"http://www.facebook.com/reagan.kiese.37\">FaceBook</a>|<a href=\"https://medium.com/@rkddatas\">Medium</a>|\n",
    "|--------------|-----------|-----------|-----------|-----------|-----------|-----------|\n",
    "\n",
    "---"
   ]
  },
  {
   "cell_type": "markdown",
   "metadata": {},
   "source": []
  }
 ],
 "metadata": {
  "interpreter": {
   "hash": "77fa04183f7360a859fca835f0102316890766ea07c37869f34734eee9ecc415"
  },
  "kernelspec": {
   "display_name": "da03_kernel",
   "language": "python",
   "name": "python3"
  },
  "language_info": {
   "codemirror_mode": {
    "name": "ipython",
    "version": 3
   },
   "file_extension": ".py",
   "mimetype": "text/x-python",
   "name": "python",
   "nbconvert_exporter": "python",
   "pygments_lexer": "ipython3",
   "version": "3.8.13"
  },
  "orig_nbformat": 4
 },
 "nbformat": 4,
 "nbformat_minor": 2
}
