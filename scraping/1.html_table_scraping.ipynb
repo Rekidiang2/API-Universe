{
 "cells": [
  {
   "cell_type": "markdown",
   "metadata": {},
   "source": [
    "# HTML Table Scraping API"
   ]
  },
  {
   "cell_type": "markdown",
   "metadata": {},
   "source": [
    "## Import Libraries"
   ]
  },
  {
   "cell_type": "code",
   "execution_count": 1,
   "metadata": {},
   "outputs": [],
   "source": [
    "import requests\n",
    "import numpy as np\n",
    "import pandas as pd\n",
    "import json\n",
    "import webbrowser\n",
    "from bs4 import BeautifulSoup\n",
    "from utils import *"
   ]
  },
  {
   "cell_type": "markdown",
   "metadata": {},
   "source": [
    "## End Point"
   ]
  },
  {
   "cell_type": "code",
   "execution_count": 2,
   "metadata": {},
   "outputs": [],
   "source": [
    "url = \"https://cf-courses-data.s3.us.cloud-object-storage.appdomain.cloud/IBM-DA0321EN-SkillsNetwork/labs/datasets/HTMLColorCodes.html\"\n"
   ]
  },
  {
   "cell_type": "markdown",
   "metadata": {},
   "source": [
    "## Request"
   ]
  },
  {
   "cell_type": "code",
   "execution_count": 3,
   "metadata": {},
   "outputs": [
    {
     "name": "stdout",
     "output_type": "stream",
     "text": [
      "Request Response : 200 OK (Everything works as expected)\n"
     ]
    }
   ],
   "source": [
    "\n",
    "page = requests.get(url)\n",
    "req_response(page)"
   ]
  },
  {
   "cell_type": "markdown",
   "metadata": {},
   "source": [
    "## Get Data"
   ]
  },
  {
   "cell_type": "code",
   "execution_count": 4,
   "metadata": {},
   "outputs": [
    {
     "name": "stdout",
     "output_type": "stream",
     "text": [
      "html document parsed !!! \n"
     ]
    }
   ],
   "source": [
    "# parse document (create BeautifulSoup object)\n",
    "data = BeautifulSoup(page.text, \"html.parser\")\n",
    "print(\"html document parsed !!! \")"
   ]
  },
  {
   "cell_type": "markdown",
   "metadata": {},
   "source": [
    "## Format Data"
   ]
  },
  {
   "cell_type": "code",
   "execution_count": 5,
   "metadata": {},
   "outputs": [
    {
     "data": {
      "text/html": [
       "<div>\n",
       "<style scoped>\n",
       "    .dataframe tbody tr th:only-of-type {\n",
       "        vertical-align: middle;\n",
       "    }\n",
       "\n",
       "    .dataframe tbody tr th {\n",
       "        vertical-align: top;\n",
       "    }\n",
       "\n",
       "    .dataframe thead th {\n",
       "        text-align: right;\n",
       "    }\n",
       "</style>\n",
       "<table border=\"1\" class=\"dataframe\">\n",
       "  <thead>\n",
       "    <tr style=\"text-align: right;\">\n",
       "      <th></th>\n",
       "      <th>Color Name</th>\n",
       "      <th>Color_Code</th>\n",
       "    </tr>\n",
       "  </thead>\n",
       "  <tbody>\n",
       "    <tr>\n",
       "      <th>0</th>\n",
       "      <td>Color Name</td>\n",
       "      <td>None</td>\n",
       "    </tr>\n",
       "    <tr>\n",
       "      <th>1</th>\n",
       "      <td>lightsalmon</td>\n",
       "      <td>#FFA07A</td>\n",
       "    </tr>\n",
       "    <tr>\n",
       "      <th>2</th>\n",
       "      <td>salmon</td>\n",
       "      <td>#FA8072</td>\n",
       "    </tr>\n",
       "    <tr>\n",
       "      <th>3</th>\n",
       "      <td>darksalmon</td>\n",
       "      <td>#E9967A</td>\n",
       "    </tr>\n",
       "    <tr>\n",
       "      <th>4</th>\n",
       "      <td>lightcoral</td>\n",
       "      <td>#F08080</td>\n",
       "    </tr>\n",
       "    <tr>\n",
       "      <th>5</th>\n",
       "      <td>coral</td>\n",
       "      <td>#FF7F50</td>\n",
       "    </tr>\n",
       "    <tr>\n",
       "      <th>6</th>\n",
       "      <td>tomato</td>\n",
       "      <td>#FF6347</td>\n",
       "    </tr>\n",
       "    <tr>\n",
       "      <th>7</th>\n",
       "      <td>orangered</td>\n",
       "      <td>#FF4500</td>\n",
       "    </tr>\n",
       "    <tr>\n",
       "      <th>8</th>\n",
       "      <td>gold</td>\n",
       "      <td>#FFD700</td>\n",
       "    </tr>\n",
       "    <tr>\n",
       "      <th>9</th>\n",
       "      <td>orange</td>\n",
       "      <td>#FFA500</td>\n",
       "    </tr>\n",
       "    <tr>\n",
       "      <th>10</th>\n",
       "      <td>darkorange</td>\n",
       "      <td>#FF8C00</td>\n",
       "    </tr>\n",
       "    <tr>\n",
       "      <th>11</th>\n",
       "      <td>lightyellow</td>\n",
       "      <td>#FFFFE0</td>\n",
       "    </tr>\n",
       "    <tr>\n",
       "      <th>12</th>\n",
       "      <td>lemonchiffon</td>\n",
       "      <td>#FFFACD</td>\n",
       "    </tr>\n",
       "    <tr>\n",
       "      <th>13</th>\n",
       "      <td>papayawhip</td>\n",
       "      <td>#FFEFD5</td>\n",
       "    </tr>\n",
       "    <tr>\n",
       "      <th>14</th>\n",
       "      <td>moccasin</td>\n",
       "      <td>#FFE4B5</td>\n",
       "    </tr>\n",
       "    <tr>\n",
       "      <th>15</th>\n",
       "      <td>peachpuff</td>\n",
       "      <td>#FFDAB9</td>\n",
       "    </tr>\n",
       "    <tr>\n",
       "      <th>16</th>\n",
       "      <td>palegoldenrod</td>\n",
       "      <td>#EEE8AA</td>\n",
       "    </tr>\n",
       "    <tr>\n",
       "      <th>17</th>\n",
       "      <td>khaki</td>\n",
       "      <td>#F0E68C</td>\n",
       "    </tr>\n",
       "    <tr>\n",
       "      <th>18</th>\n",
       "      <td>darkkhaki</td>\n",
       "      <td>#BDB76B</td>\n",
       "    </tr>\n",
       "    <tr>\n",
       "      <th>19</th>\n",
       "      <td>yellow</td>\n",
       "      <td>#FFFF00</td>\n",
       "    </tr>\n",
       "    <tr>\n",
       "      <th>20</th>\n",
       "      <td>lawngreen</td>\n",
       "      <td>#7CFC00</td>\n",
       "    </tr>\n",
       "    <tr>\n",
       "      <th>21</th>\n",
       "      <td>chartreuse</td>\n",
       "      <td>#7FFF00</td>\n",
       "    </tr>\n",
       "    <tr>\n",
       "      <th>22</th>\n",
       "      <td>limegreen</td>\n",
       "      <td>#32CD32</td>\n",
       "    </tr>\n",
       "    <tr>\n",
       "      <th>23</th>\n",
       "      <td>lime</td>\n",
       "      <td>#00FF00</td>\n",
       "    </tr>\n",
       "    <tr>\n",
       "      <th>24</th>\n",
       "      <td>forestgreen</td>\n",
       "      <td>#228B22</td>\n",
       "    </tr>\n",
       "    <tr>\n",
       "      <th>25</th>\n",
       "      <td>green</td>\n",
       "      <td>#008000</td>\n",
       "    </tr>\n",
       "    <tr>\n",
       "      <th>26</th>\n",
       "      <td>powderblue</td>\n",
       "      <td>#B0E0E6</td>\n",
       "    </tr>\n",
       "    <tr>\n",
       "      <th>27</th>\n",
       "      <td>lightblue</td>\n",
       "      <td>#ADD8E6</td>\n",
       "    </tr>\n",
       "    <tr>\n",
       "      <th>28</th>\n",
       "      <td>lightskyblue</td>\n",
       "      <td>#87CEFA</td>\n",
       "    </tr>\n",
       "    <tr>\n",
       "      <th>29</th>\n",
       "      <td>skyblue</td>\n",
       "      <td>#87CEEB</td>\n",
       "    </tr>\n",
       "    <tr>\n",
       "      <th>30</th>\n",
       "      <td>deepskyblue</td>\n",
       "      <td>#00BFFF</td>\n",
       "    </tr>\n",
       "    <tr>\n",
       "      <th>31</th>\n",
       "      <td>lightsteelblue</td>\n",
       "      <td>#B0C4DE</td>\n",
       "    </tr>\n",
       "    <tr>\n",
       "      <th>32</th>\n",
       "      <td>dodgerblue</td>\n",
       "      <td>#1E90FF</td>\n",
       "    </tr>\n",
       "  </tbody>\n",
       "</table>\n",
       "</div>"
      ],
      "text/plain": [
       "        Color Name Color_Code\n",
       "0       Color Name       None\n",
       "1      lightsalmon    #FFA07A\n",
       "2           salmon    #FA8072\n",
       "3       darksalmon    #E9967A\n",
       "4       lightcoral    #F08080\n",
       "5            coral    #FF7F50\n",
       "6           tomato    #FF6347\n",
       "7        orangered    #FF4500\n",
       "8             gold    #FFD700\n",
       "9           orange    #FFA500\n",
       "10      darkorange    #FF8C00\n",
       "11     lightyellow    #FFFFE0\n",
       "12    lemonchiffon    #FFFACD\n",
       "13      papayawhip    #FFEFD5\n",
       "14        moccasin    #FFE4B5\n",
       "15       peachpuff    #FFDAB9\n",
       "16   palegoldenrod    #EEE8AA\n",
       "17           khaki    #F0E68C\n",
       "18       darkkhaki    #BDB76B\n",
       "19          yellow    #FFFF00\n",
       "20       lawngreen    #7CFC00\n",
       "21      chartreuse    #7FFF00\n",
       "22       limegreen    #32CD32\n",
       "23            lime    #00FF00\n",
       "24     forestgreen    #228B22\n",
       "25           green    #008000\n",
       "26      powderblue    #B0E0E6\n",
       "27       lightblue    #ADD8E6\n",
       "28    lightskyblue    #87CEFA\n",
       "29         skyblue    #87CEEB\n",
       "30     deepskyblue    #00BFFF\n",
       "31  lightsteelblue    #B0C4DE\n",
       "32      dodgerblue    #1E90FF"
      ]
     },
     "execution_count": 5,
     "metadata": {},
     "output_type": "execute_result"
    }
   ],
   "source": [
    "color_code = []\n",
    "color_name = []\n",
    "for row in data.find_all('tr'): # in html table row is represented by the tag <tr>\n",
    "    # Get all columns in each row.\n",
    "    cols = row.find_all('td') # in html a column is represented by the tag <td>\n",
    "    color_name.append(cols[2].string) # store the value in column 3 as color_name\n",
    "    color_code.append(cols[3].string) # store the value in column 4 as color_code\n",
    "    #print(\"{}--->{}\".format(color_name,color_code))\n",
    "\n",
    "pd.DataFrame({'Color Name':color_name, 'Color_Code':color_code})"
   ]
  },
  {
   "cell_type": "markdown",
   "metadata": {},
   "source": [
    "___\n",
    "My name is **Kiese Diangebeni Reagan** I'm **Data Science Analyst**, technology passionate person, Artificial Intelligence enthusiast and lifelong learner. \n",
    "\n",
    "   \n",
    "|**Let get in touch :**| <a href=\"https://kiese.tech\">www.kiese.tech</a>|<a href=\"https://github.com/Rekidiang2\">GitHub</a>| <a href=\"https://www.linkedin.com/in/kiese-diangebeni-reagan-82992216a/\">Linkedin</a>|<a href=\"https://twitter.com/ReaganKiese\">Twitter</a>|<a href=\"http://www.facebook.com/reagan.kiese.37\">FaceBook</a>|<a href=\"https://medium.com/@rkddatas\">Medium</a>|\n",
    "|--------------|-----------|-----------|-----------|-----------|-----------|-----------|\n",
    "\n",
    "---"
   ]
  },
  {
   "cell_type": "code",
   "execution_count": null,
   "metadata": {},
   "outputs": [],
   "source": []
  }
 ],
 "metadata": {
  "interpreter": {
   "hash": "77fa04183f7360a859fca835f0102316890766ea07c37869f34734eee9ecc415"
  },
  "kernelspec": {
   "display_name": "da03_kernel",
   "language": "python",
   "name": "python3"
  },
  "language_info": {
   "codemirror_mode": {
    "name": "ipython",
    "version": 3
   },
   "file_extension": ".py",
   "mimetype": "text/x-python",
   "name": "python",
   "nbconvert_exporter": "python",
   "pygments_lexer": "ipython3",
   "version": "3.8.13"
  },
  "orig_nbformat": 4
 },
 "nbformat": 4,
 "nbformat_minor": 2
}
