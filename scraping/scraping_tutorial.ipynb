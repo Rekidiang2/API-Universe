{
 "cells": [
  {
   "cell_type": "code",
   "execution_count": null,
   "metadata": {},
   "outputs": [],
   "source": []
  },
  {
   "cell_type": "markdown",
   "metadata": {},
   "source": [
    "# Webscraping\n",
    "\n",
    "### HTML of a basic web page\n",
    "\n",
    "0. Web Page\n",
    "1. Composition of an HTML Tag; \n",
    "2. HTML Trees; \n",
    "3. HTML Tables. \n",
    "4. Webscraping"
   ]
  },
  {
   "cell_type": "markdown",
   "metadata": {},
   "source": [
    "### 0. Web page"
   ]
  },
  {
   "cell_type": "markdown",
   "metadata": {},
   "source": [
    "```html\n",
    "\n",
    "<!DOCTYPE html>\n",
    "<html>\n",
    "    <head>a\n",
    "        <title>players salary</title>\n",
    "    </head>\n",
    "    <body>\n",
    "        <h3><b id='boldest'>Luyeye kola</b></h3>\n",
    "        <p>salary : $ 123</p>\n",
    "        <h3>Lomomo kana</h3>\n",
    "        <p>salary : $ 456</p>\n",
    "        <h3>Makiadi Zola</h3>\n",
    "        <p>salary : $ 650</p>\n",
    "        <h3>Bobo Bonzeke </h3>\n",
    "        <p>salary : $ 215</p>  \n",
    "\n",
    "        ta\n",
    "    </body>\n",
    "</html>\"\n",
    "\n",
    "```"
   ]
  },
  {
   "cell_type": "markdown",
   "metadata": {},
   "source": [
    "### 1. Composition of an HTML Tag\n",
    "\n",
    "\n",
    "<img src=\"zasset/html_elt.png\" alt=\"drawing\" width=\"600\"/>"
   ]
  },
  {
   "cell_type": "markdown",
   "metadata": {},
   "source": [
    "### 2. HTML Trees\n",
    "\n",
    "\n",
    "<img src=\"zasset/html_tree.png\" alt=\"drawing\" width=\"600\"/>"
   ]
  },
  {
   "cell_type": "markdown",
   "metadata": {},
   "source": [
    "### 3. HTML Table\n",
    "\n",
    "<img src=\"zasset/html_table.png\" alt=\"drawing\" width=\"600\"/>"
   ]
  },
  {
   "cell_type": "markdown",
   "metadata": {},
   "source": [
    "### 4. Webscraping"
   ]
  },
  {
   "cell_type": "code",
   "execution_count": 35,
   "metadata": {},
   "outputs": [],
   "source": [
    "web_page = \"<!DOCTYPE html><html><head>a<title>players salary</title></head><body><h3><b id='boldest'>Luyeye kola</b></h3><p>salary : $ 123</p>\\\n",
    "           <h3>Lomomo kana</h3><p>salary : $ 456</p><h3>Makiadi Zola</h3><p>salary : $ 650</p><h3>Bobo Bonzeke </h3><p>salary : $ 215</p>/body></html>\""
   ]
  },
  {
   "cell_type": "markdown",
   "metadata": {},
   "source": [
    "#### Import Libraries"
   ]
  },
  {
   "cell_type": "code",
   "execution_count": 36,
   "metadata": {},
   "outputs": [
    {
     "name": "stdout",
     "output_type": "stream",
     "text": [
      "html document parsed !!! \n"
     ]
    }
   ],
   "source": [
    "import requests\n",
    "from bs4 import BeautifulSoup"
   ]
  },
  {
   "cell_type": "markdown",
   "metadata": {},
   "source": [
    "#### Parse web page"
   ]
  },
  {
   "cell_type": "code",
   "execution_count": 61,
   "metadata": {},
   "outputs": [
    {
     "name": "stdout",
     "output_type": "stream",
     "text": [
      "html document parsed !!! \n"
     ]
    }
   ],
   "source": [
    "# local html file\n",
    "url = \"html.html\"\n",
    "html = open(url, \"r\").read()\n",
    "\n",
    "#request web page\n",
    "url = \"https://www.bing.com/search?q=html5lib&qs=n&form=QBRE&sp=-1&pq=html5lib&sc=8-8&sk=&cvid=5C214ED170CB44839480F69A76E3E935\"\n",
    "page = requests.get(url).text\n",
    "\n",
    "# parse document (create BeautifulSoup object)\n",
    "soup = BeautifulSoup(html, \"html.parser\")\n",
    "print(\"html document parsed !!! \")"
   ]
  },
  {
   "cell_type": "markdown",
   "metadata": {},
   "source": [
    "####  Display the HTML in the nested structure"
   ]
  },
  {
   "cell_type": "code",
   "execution_count": null,
   "metadata": {},
   "outputs": [],
   "source": [
    "#print(soup.prettify())"
   ]
  },
  {
   "cell_type": "markdown",
   "metadata": {},
   "source": [
    "#### Tag"
   ]
  },
  {
   "cell_type": "code",
   "execution_count": 63,
   "metadata": {},
   "outputs": [
    {
     "name": "stdout",
     "output_type": "stream",
     "text": [
      "tag object: <h3><b id=\"boldest\">Luyeye kola</b></h3>\n"
     ]
    }
   ],
   "source": [
    "tag_object1=soup.title\n",
    "tag_object=soup.h3\n",
    "\n",
    "print(\"tag object:\",tag_object)"
   ]
  },
  {
   "cell_type": "markdown",
   "metadata": {},
   "source": [
    "#### Tag child, Tag parent, Tag sigling,"
   ]
  },
  {
   "cell_type": "markdown",
   "metadata": {},
   "source": [
    "Tag Child"
   ]
  },
  {
   "cell_type": "code",
   "execution_count": 64,
   "metadata": {},
   "outputs": [
    {
     "name": "stdout",
     "output_type": "stream",
     "text": [
      "<b id=\"boldest\">Luyeye kola</b>\n"
     ]
    }
   ],
   "source": [
    "\n",
    "tag_child = tag_object.b\n",
    "print(tag_child)"
   ]
  },
  {
   "cell_type": "markdown",
   "metadata": {},
   "source": [
    "Tag Parent"
   ]
  },
  {
   "cell_type": "code",
   "execution_count": 66,
   "metadata": {},
   "outputs": [
    {
     "name": "stdout",
     "output_type": "stream",
     "text": [
      "<h3><b id=\"boldest\">Luyeye kola</b></h3>\n"
     ]
    }
   ],
   "source": [
    "# Return object child\n",
    "tag_parent = tag_child.parent\n",
    "print(tag_parent)"
   ]
  },
  {
   "cell_type": "markdown",
   "metadata": {},
   "source": [
    "Tag Sibling"
   ]
  },
  {
   "cell_type": "code",
   "execution_count": 72,
   "metadata": {},
   "outputs": [
    {
     "name": "stdout",
     "output_type": "stream",
     "text": [
      "<p>salary : $ 123</p>\n"
     ]
    }
   ],
   "source": [
    "# Return parent tag\n",
    "tag_sibling1 = tag_object.next_sibling\n",
    "tag_sibling2 = tag_sibling1.next_sibling\n",
    "tag_sibling3 = tag_sibling2.next_sibling\n",
    "print(tag_sibling2)\n"
   ]
  },
  {
   "cell_type": "markdown",
   "metadata": {},
   "source": [
    "#### HTML Attribute & Navigable Strings"
   ]
  },
  {
   "cell_type": "markdown",
   "metadata": {},
   "source": [
    "HTML Attribute"
   ]
  },
  {
   "cell_type": "code",
   "execution_count": 73,
   "metadata": {},
   "outputs": [
    {
     "name": "stdout",
     "output_type": "stream",
     "text": [
      "{'id': 'boldest'}\n"
     ]
    }
   ],
   "source": [
    "tag_attr = tag_child.attrs   #as json\n",
    "print(tag_attr)\n"
   ]
  },
  {
   "cell_type": "markdown",
   "metadata": {},
   "source": [
    "Navigable Strings\n"
   ]
  },
  {
   "cell_type": "code",
   "execution_count": 74,
   "metadata": {},
   "outputs": [
    {
     "name": "stdout",
     "output_type": "stream",
     "text": [
      "Luyeye kola\n"
     ]
    }
   ],
   "source": [
    "\n",
    "tag_content = tag_child.string\n",
    "print(tag_content)"
   ]
  },
  {
   "cell_type": "markdown",
   "metadata": {},
   "source": [
    "#### Filter\n",
    "\n",
    "you can use filters to filter based on a tag’s name, it’s attributes, the text of a string, or on some combination of these."
   ]
  },
  {
   "cell_type": "code",
   "execution_count": 77,
   "metadata": {},
   "outputs": [
    {
     "data": {
      "text/plain": [
       "[<tr>\n",
       " <td>Name</td>\n",
       " <td>Age</td>\n",
       " <td>Salary</td>\n",
       " </tr>,\n",
       " <tr>\n",
       " <td>Luyeye kola</td>\n",
       " <td>26</td>\n",
       " <td>$ 123</td>\n",
       " </tr>,\n",
       " <tr>\n",
       " <td>Lomomo kana</td>\n",
       " <td>28</td>\n",
       " <td>$ 456</td>\n",
       " </tr>,\n",
       " <tr>\n",
       " <td>Makiadi Zola</td>\n",
       " <td>31</td>\n",
       " <td>$ 650</td>\n",
       " </tr>,\n",
       " <tr>\n",
       " <td>Bobo Bonzeke</td>\n",
       " <td>36</td>\n",
       " <td>$ 215</td>\n",
       " </tr>]"
      ]
     },
     "execution_count": 77,
     "metadata": {},
     "output_type": "execute_result"
    }
   ],
   "source": [
    "table_rows = soup.find_all(name='tr')\n",
    "table_rows"
   ]
  },
  {
   "cell_type": "code",
   "execution_count": 78,
   "metadata": {},
   "outputs": [
    {
     "data": {
      "text/plain": [
       "<tr>\n",
       "<td>Luyeye kola</td>\n",
       "<td>26</td>\n",
       "<td>$ 123</td>\n",
       "</tr>"
      ]
     },
     "execution_count": 78,
     "metadata": {},
     "output_type": "execute_result"
    }
   ],
   "source": [
    "first_row = table_rows[1]\n",
    "first_row"
   ]
  },
  {
   "cell_type": "code",
   "execution_count": 79,
   "metadata": {},
   "outputs": [
    {
     "data": {
      "text/plain": [
       "<td>Luyeye kola</td>"
      ]
     },
     "execution_count": 79,
     "metadata": {},
     "output_type": "execute_result"
    }
   ],
   "source": [
    "# first table cell\n",
    "first_row.td"
   ]
  },
  {
   "cell_type": "code",
   "execution_count": 81,
   "metadata": {},
   "outputs": [
    {
     "name": "stdout",
     "output_type": "stream",
     "text": [
      "row 0 is\n",
      " <tr>\n",
      "<td>Name</td>\n",
      "<td>Age</td>\n",
      "<td>Salary</td>\n",
      "</tr>\n",
      "row 1 is\n",
      " <tr>\n",
      "<td>Luyeye kola</td>\n",
      "<td>26</td>\n",
      "<td>$ 123</td>\n",
      "</tr>\n",
      "row 2 is\n",
      " <tr>\n",
      "<td>Lomomo kana</td>\n",
      "<td>28</td>\n",
      "<td>$ 456</td>\n",
      "</tr>\n",
      "row 3 is\n",
      " <tr>\n",
      "<td>Makiadi Zola</td>\n",
      "<td>31</td>\n",
      "<td>$ 650</td>\n",
      "</tr>\n",
      "row 4 is\n",
      " <tr>\n",
      "<td>Bobo Bonzeke</td>\n",
      "<td>36</td>\n",
      "<td>$ 215</td>\n",
      "</tr>\n"
     ]
    }
   ],
   "source": [
    "# iterate through each table cell\n",
    "for i, row in enumerate(table_rows):\n",
    "    print(\"row\", i, \"is\\n\", row)"
   ]
  },
  {
   "cell_type": "code",
   "execution_count": 60,
   "metadata": {},
   "outputs": [
    {
     "name": "stdout",
     "output_type": "stream",
     "text": [
      "row 0\n",
      "column 0 cell <td>Name</td>\n",
      "column 1 cell <td>Age</td>\n",
      "column 2 cell <td>Salary</td>\n",
      "row 1\n",
      "column 0 cell <td>Luyeye kola</td>\n",
      "column 1 cell <td>26</td>\n",
      "column 2 cell <td>$ 123</td>\n",
      "row 2\n",
      "column 0 cell <td>Lomomo kana</td>\n",
      "column 1 cell <td>28</td>\n",
      "column 2 cell <td>$ 456</td>\n",
      "row 3\n",
      "column 0 cell <td>Makiadi Zola</td>\n",
      "column 1 cell <td>31</td>\n",
      "column 2 cell <td>$ 650</td>\n",
      "row 4\n",
      "column 0 cell <td>Bobo Bonzeke</td>\n",
      "column 1 cell <td>36</td>\n",
      "column 2 cell <td>$ 215</td>\n"
     ]
    }
   ],
   "source": [
    "# iterate through each table cell\n",
    "for i, row in enumerate(table_rows):\n",
    "    print(\"row\", i)\n",
    "    cells=row.find_all(\"td\")\n",
    "\n",
    "    for j, cell in enumerate(cells):\n",
    "        print(\"column\", j, \"cell\", cell)"
   ]
  },
  {
   "cell_type": "code",
   "execution_count": 82,
   "metadata": {},
   "outputs": [
    {
     "data": {
      "text/plain": [
       "[<tr>\n",
       " <td>Name</td>\n",
       " <td>Age</td>\n",
       " <td>Salary</td>\n",
       " </tr>,\n",
       " <td>Name</td>,\n",
       " <td>Age</td>,\n",
       " <td>Salary</td>,\n",
       " <tr>\n",
       " <td>Luyeye kola</td>\n",
       " <td>26</td>\n",
       " <td>$ 123</td>\n",
       " </tr>,\n",
       " <td>Luyeye kola</td>,\n",
       " <td>26</td>,\n",
       " <td>$ 123</td>,\n",
       " <tr>\n",
       " <td>Lomomo kana</td>\n",
       " <td>28</td>\n",
       " <td>$ 456</td>\n",
       " </tr>,\n",
       " <td>Lomomo kana</td>,\n",
       " <td>28</td>,\n",
       " <td>$ 456</td>,\n",
       " <tr>\n",
       " <td>Makiadi Zola</td>\n",
       " <td>31</td>\n",
       " <td>$ 650</td>\n",
       " </tr>,\n",
       " <td>Makiadi Zola</td>,\n",
       " <td>31</td>,\n",
       " <td>$ 650</td>,\n",
       " <tr>\n",
       " <td>Bobo Bonzeke</td>\n",
       " <td>36</td>\n",
       " <td>$ 215</td>\n",
       " </tr>,\n",
       " <td>Bobo Bonzeke</td>,\n",
       " <td>36</td>,\n",
       " <td>$ 215</td>]"
      ]
     },
     "execution_count": 82,
     "metadata": {},
     "output_type": "execute_result"
    }
   ],
   "source": [
    "list_input=soup.find_all(name=[\"tr\", \"td\"])\n",
    "list_input"
   ]
  },
  {
   "cell_type": "code",
   "execution_count": 83,
   "metadata": {},
   "outputs": [
    {
     "data": {
      "text/plain": [
       "[<b id=\"boldest\">Luyeye kola</b>]"
      ]
     },
     "execution_count": 83,
     "metadata": {},
     "output_type": "execute_result"
    }
   ],
   "source": [
    "soup.find_all(id=\"boldest\")"
   ]
  },
  {
   "cell_type": "markdown",
   "metadata": {},
   "source": [
    "Multi Table"
   ]
  },
  {
   "cell_type": "markdown",
   "metadata": {},
   "source": [
    "%%html\n",
    "<h3>Rocket Launch </h3>\n",
    "\n",
    "<p>\n",
    "<table class='rocket'>\n",
    "  <tr>\n",
    "    <td>Flight No</td>\n",
    "    <td>Launch site</td> \n",
    "    <td>Payload mass</td>\n",
    "  </tr>\n",
    "  <tr>\n",
    "    <td>1</td>\n",
    "    <td>Florida</td>\n",
    "    <td>300 kg</td>\n",
    "  </tr>\n",
    "  <tr>\n",
    "    <td>2</td>\n",
    "    <td>Texas</td>\n",
    "    <td>94 kg</td>\n",
    "  </tr>\n",
    "  <tr>\n",
    "    <td>3</td>\n",
    "    <td>Florida </td>\n",
    "    <td>80 kg</td>\n",
    "  </tr>\n",
    "</table>\n",
    "</p>\n",
    "<p>\n",
    "\n",
    "<h3>Pizza Party  </h3>\n",
    "  \n",
    "    \n",
    "<table class='pizza'>\n",
    "  <tr>\n",
    "    <td>Pizza Place</td>\n",
    "    <td>Orders</td> \n",
    "    <td>Slices </td>\n",
    "   </tr>\n",
    "  <tr>\n",
    "    <td>Domino's Pizza</td>\n",
    "    <td>10</td>\n",
    "    <td>100</td>\n",
    "  </tr>\n",
    "  <tr>\n",
    "    <td>Little Caesars</td>\n",
    "    <td>12</td>\n",
    "    <td >144 </td>\n",
    "  </tr>\n",
    "  <tr>\n",
    "    <td>Papa John's </td>\n",
    "    <td>15 </td>\n",
    "    <td>165</td>\n",
    "  </tr>\n"
   ]
  },
  {
   "cell_type": "code",
   "execution_count": 84,
   "metadata": {},
   "outputs": [],
   "source": [
    "two_tables=\"<h3>Rocket Launch </h3><p><table class='rocket'><tr><td>Flight No</td><td>Launch site</td> <td>Payload mass</td></tr><tr><td>1</td><td>Florida</td><td>300 kg</td></tr><tr><td>2</td><td>Texas</td><td>94 kg</td></tr><tr><td>3</td><td>Florida </td><td>80 kg</td></tr></table></p><p><h3>Pizza Party  </h3><table class='pizza'><tr><td>Pizza Place</td><td>Orders</td> <td>Slices </td></tr><tr><td>Domino's Pizza</td><td>10</td><td>100</td></tr><tr><td>Little Caesars</td><td>12</td><td >144 </td></tr><tr><td>Papa John's </td><td>15 </td><td>165</td></tr>\""
   ]
  },
  {
   "cell_type": "code",
   "execution_count": 85,
   "metadata": {},
   "outputs": [
    {
     "data": {
      "text/plain": [
       "<table class=\"rocket\"><tr><td>Flight No</td><td>Launch site</td> <td>Payload mass</td></tr><tr><td>1</td><td>Florida</td><td>300 kg</td></tr><tr><td>2</td><td>Texas</td><td>94 kg</td></tr><tr><td>3</td><td>Florida </td><td>80 kg</td></tr></table>"
      ]
     },
     "execution_count": 85,
     "metadata": {},
     "output_type": "execute_result"
    }
   ],
   "source": [
    "two_tables_bs= BeautifulSoup(two_tables, 'html.parser')\n",
    "two_tables_bs.find(\"table\")"
   ]
  },
  {
   "cell_type": "code",
   "execution_count": 87,
   "metadata": {},
   "outputs": [
    {
     "data": {
      "text/plain": [
       "<table class=\"pizza\"><tr><td>Pizza Place</td><td>Orders</td> <td>Slices </td></tr><tr><td>Domino's Pizza</td><td>10</td><td>100</td></tr><tr><td>Little Caesars</td><td>12</td><td>144 </td></tr><tr><td>Papa John's </td><td>15 </td><td>165</td></tr></table>"
      ]
     },
     "execution_count": 87,
     "metadata": {},
     "output_type": "execute_result"
    }
   ],
   "source": [
    "# We can filter on the class attribute to find the second table, but because class is a keyword in Python, we add an underscore.\n",
    "\n",
    "two_tables_bs.find(\"table\",class_='pizza')"
   ]
  },
  {
   "cell_type": "markdown",
   "metadata": {},
   "source": [
    "\n",
    "___\n",
    "My name is **Kiese Diangebeni Reagan** I'm **Data Science Analyst**, technology passionate person, Artificial Intelligence enthusiast and lifelong learner. \n",
    "\n",
    "   \n",
    "|**Let get in touch :**| <a href=\"https://kiese.tech\">www.kiese.tech</a>|<a href=\"https://github.com/Rekidiang2\">GitHub</a>| <a href=\"https://www.linkedin.com/in/kiese-diangebeni-reagan-82992216a/\">Linkedin</a>|<a href=\"https://twitter.com/ReaganKiese\">Twitter</a>|<a href=\"http://www.facebook.com/reagan.kiese.37\">FaceBook</a>|<a href=\"https://medium.com/@rkddatas\">Medium</a>|\n",
    "|--------------|-----------|-----------|-----------|-----------|-----------|-----------|\n",
    "\n",
    "---"
   ]
  },
  {
   "cell_type": "code",
   "execution_count": null,
   "metadata": {},
   "outputs": [],
   "source": []
  }
 ],
 "metadata": {
  "interpreter": {
   "hash": "6bfa5893c784f4052440c06ef1ec79a309b11d74cc1b5c2fbb663cf849541335"
  },
  "kernelspec": {
   "display_name": "Python 3.9.7 64-bit ('venv': venv)",
   "language": "python",
   "name": "python3"
  },
  "language_info": {
   "codemirror_mode": {
    "name": "ipython",
    "version": 3
   },
   "file_extension": ".py",
   "mimetype": "text/x-python",
   "name": "python",
   "nbconvert_exporter": "python",
   "pygments_lexer": "ipython3",
   "version": "3.9.7"
  },
  "orig_nbformat": 4
 },
 "nbformat": 4,
 "nbformat_minor": 2
}
